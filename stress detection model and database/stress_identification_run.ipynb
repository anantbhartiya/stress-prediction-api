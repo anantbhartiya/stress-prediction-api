{
  "cells": [
    {
      "attachments": {},
      "cell_type": "markdown",
      "metadata": {},
      "source": [
        "# Test Run"
      ]
    },
    {
      "cell_type": "code",
      "execution_count": 11,
      "metadata": {
        "colab": {
          "base_uri": "https://localhost:8080/"
        },
        "id": "qL01GqX67Voa",
        "outputId": "fe79d26a-f6a6-46dc-cfbb-3fa42b4888df"
      },
      "outputs": [
        {
          "name": "stdout",
          "output_type": "stream",
          "text": [
            "This person is in stress.\n",
            "This person is not in stress.\n"
          ]
        }
      ],
      "source": [
        "\n",
        "import pickle\n",
        "import warnings\n",
        "warnings.filterwarnings('ignore')\n",
        "\n",
        "with open('predictor.pkl', 'rb') as file:\n",
        "    predictor = pickle.load(file)\n",
        "with open('tfidf.pkl', 'rb') as file:\n",
        "    tf = pickle.load(file)\n",
        "\n",
        "# Example usage\n",
        "text1 = \"\"\"This is the worst thing that happened to me today. I got less marks in my exam,\n",
        "            so it is not going to help me in my future.\"\"\"\n",
        "text2 = \"\"\"Hi Shashank sir, I gained a lot of knowledge from you for my future use.\n",
        "            This was a very fun journey for me. Thanks for boosting my confidence.\"\"\"\n",
        "\n",
        "print(predictor(text1))\n",
        "print(predictor(text2))\n"
      ]
    }
  ],
  "metadata": {
    "colab": {
      "provenance": []
    },
    "kernelspec": {
      "display_name": "Python 3",
      "name": "python3"
    },
    "language_info": {
      "name": "python"
    }
  },
  "nbformat": 4,
  "nbformat_minor": 0
}
