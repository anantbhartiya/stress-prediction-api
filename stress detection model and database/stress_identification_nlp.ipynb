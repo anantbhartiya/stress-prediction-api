{
  "cells": [
    {
      "cell_type": "code",
      "source": [
        "\n",
        "import numpy as np # linear algebra\n",
        "import pandas as pd # data processing, CSV file I/O (e.g. pd.read_csv)\n",
        "\n",
        "df = pd.read_csv(\"Stress.csv\")\n",
        "df.head()\n",
        "df.shape,df.info()\n",
        "not_used_cols = ['subreddit','post_id','sentence_range','confidence','social_timestamp']\n",
        "df1 = df.drop(not_used_cols,axis=1)\n",
        "df1.sample(3)\n",
        "df1['label'].unique()\n",
        "\n",
        "import nltk\n",
        "import re\n",
        "from urllib.parse import urlparse\n",
        "from spacy import load\n",
        "from nltk.stem import WordNetLemmatizer\n",
        "from nltk.corpus import stopwords\n",
        "from nltk.tokenize import word_tokenize\n",
        "\n",
        "nltk.download('omw-1.4') # Open Multilingual Wordnet, this is an lexical database \n",
        "nltk.download('wordnet') \n",
        "nltk.download('wordnet2022')\n",
        "nltk.download('punkt')\n",
        "nltk.download('stopwords')\n",
        "! cp -rf /usr/share/nltk_data/corpora/wordnet2022 /usr/share/nltk_data/corpora/wordnet\n",
        "\n",
        "\n",
        "lemmatizer = WordNetLemmatizer()\n",
        "stop_words = list(stopwords.words('english'))\n",
        "\n",
        "def textProcess(sent):\n",
        "    try:\n",
        "        # brackets replacing by space\n",
        "        sent = re.sub('[][)(]',' ',sent)\n",
        "\n",
        "        # url removing\n",
        "        sent = [word for word in sent.split() if not urlparse(word).scheme]\n",
        "        sent = ' '.join(sent)\n",
        "\n",
        "        # removing escap characters\n",
        "        sent = re.sub(r'\\@\\w+','',sent)\n",
        "\n",
        "        # removing html tags \n",
        "        sent = re.sub(re.compile(\"<.*?>\"),'',sent)\n",
        "\n",
        "        # getting only characters and numbers from text\n",
        "        sent = re.sub(\"[^A-Za-z0-9]\",' ',sent)\n",
        "\n",
        "        # lower case all words\n",
        "        sent = sent.lower()\n",
        "        \n",
        "        # strip all words from sentences\n",
        "        sent = [word.strip() for word in sent.split()]\n",
        "        sent = ' '.join(sent)\n",
        "\n",
        "        # word tokenization\n",
        "        tokens = word_tokenize(sent)\n",
        "        \n",
        "        # removing words which are in stopwords\n",
        "        for word in tokens:\n",
        "            if word in stop_words:\n",
        "                tokens.remove(word)\n",
        "        \n",
        "        # lemmatization\n",
        "        sent = [lemmatizer.lemmatize(word) for word in tokens]\n",
        "        sent = ' '.join(sent)\n",
        "        return sent\n",
        "    \n",
        "    except Exception as ex:\n",
        "        print(sent,\"\\n\")\n",
        "        print(\"Error \",ex)\n",
        "\n",
        "df1['processed_text'] = df1['text'].apply(lambda text: textProcess(text))\n",
        "df1.head()\n",
        "\n",
        "from sklearn.feature_extraction.text import TfidfVectorizer\n",
        "MIN_DF = 1\n",
        "\n",
        "tf = TfidfVectorizer(min_df=MIN_DF)\n",
        "tf_df = tf.fit_transform(df1['processed_text'])\n",
        "tf_df.toarray()\n",
        "\n",
        "tf_df = pd.DataFrame(tf_df.toarray(),columns=tf.get_feature_names_out())\n",
        "tf_df.head(3)\n",
        "\n",
        "from sklearn.linear_model import LogisticRegression\n",
        "import warnings\n",
        "warnings.filterwarnings('ignore')\n",
        "\n",
        "model = LogisticRegression().fit(tf_df,df1['label'])\n",
        "model.score(tf_df,df1['label'])\n",
        "\n",
        "def predictor(text):\n",
        "    processed = textProcess(text)\n",
        "    embedded_words = tf.transform([processed])\n",
        "    res = model.predict(embedded_words)\n",
        "    if res[0] == 1:\n",
        "        res = \"this person is in stress\"\n",
        "    else:\n",
        "        res = \"this person is not in stress\"\n",
        "    return res\n",
        "\n",
        "text1 = \"\"\"This is the worst thing that happened to me today. I got less marks in my exam, \n",
        "            so it is not going to help me in my future.\"\"\"\n",
        "text2 = \"\"\"Hi Shashank sir, I gained a lot of knowledge from you for my future use. \n",
        "            This was a very fun journey for me. Thanks for boosting my confidence.\"\"\"\n",
        "\n",
        "print(predictor(text1))\n",
        "print(predictor(text2))"
      ],
      "metadata": {
        "colab": {
          "base_uri": "https://localhost:8080/"
        },
        "id": "8d_xBFWLytQd",
        "outputId": "662434b0-1e6e-4609-d14b-ae15562d1257"
      },
      "id": "8d_xBFWLytQd",
      "execution_count": 42,
      "outputs": [
        {
          "output_type": "stream",
          "name": "stdout",
          "text": [
            "<class 'pandas.core.frame.DataFrame'>\n",
            "RangeIndex: 2838 entries, 0 to 2837\n",
            "Data columns (total 7 columns):\n",
            " #   Column            Non-Null Count  Dtype  \n",
            "---  ------            --------------  -----  \n",
            " 0   subreddit         2838 non-null   object \n",
            " 1   post_id           2838 non-null   object \n",
            " 2   sentence_range    2838 non-null   object \n",
            " 3   text              2838 non-null   object \n",
            " 4   label             2838 non-null   int64  \n",
            " 5   confidence        2838 non-null   float64\n",
            " 6   social_timestamp  2838 non-null   int64  \n",
            "dtypes: float64(1), int64(2), object(4)\n",
            "memory usage: 155.3+ KB\n"
          ]
        },
        {
          "output_type": "stream",
          "name": "stderr",
          "text": [
            "[nltk_data] Downloading package omw-1.4 to /root/nltk_data...\n",
            "[nltk_data]   Package omw-1.4 is already up-to-date!\n",
            "[nltk_data] Downloading package wordnet to /root/nltk_data...\n",
            "[nltk_data]   Package wordnet is already up-to-date!\n",
            "[nltk_data] Downloading package wordnet2022 to /root/nltk_data...\n",
            "[nltk_data]   Package wordnet2022 is already up-to-date!\n",
            "[nltk_data] Downloading package punkt to /root/nltk_data...\n",
            "[nltk_data]   Package punkt is already up-to-date!\n",
            "[nltk_data] Downloading package stopwords to /root/nltk_data...\n",
            "[nltk_data]   Package stopwords is already up-to-date!\n"
          ]
        },
        {
          "output_type": "stream",
          "name": "stdout",
          "text": [
            "cp: cannot stat '/usr/share/nltk_data/corpora/wordnet2022': No such file or directory\n",
            "this person is in stress\n",
            "this person is not in stress\n"
          ]
        }
      ]
    },
    {
      "cell_type": "code",
      "source": [
        "import pickle\n",
        "\n",
        "with open('predictor.pkl', 'wb') as file:\n",
        "    pickle.dump(predictor, file)"
      ],
      "metadata": {
        "id": "HZrh-fkb6tIX"
      },
      "id": "HZrh-fkb6tIX",
      "execution_count": 44,
      "outputs": []
    },
    {
      "cell_type": "code",
      "source": [
        "with open('tfidf.pkl', 'wb') as file:\n",
        "    pickle.dump(tf, file)"
      ],
      "metadata": {
        "id": "My4-K78L8Gb2"
      },
      "id": "My4-K78L8Gb2",
      "execution_count": 46,
      "outputs": []
    }
  ],
  "metadata": {
    "kernelspec": {
      "display_name": "Python 3",
      "language": "python",
      "name": "python3"
    },
    "language_info": {
      "codemirror_mode": {
        "name": "ipython",
        "version": 3
      },
      "file_extension": ".py",
      "mimetype": "text/x-python",
      "name": "python",
      "nbconvert_exporter": "python",
      "pygments_lexer": "ipython3",
      "version": "3.7.12"
    },
    "papermill": {
      "default_parameters": {},
      "duration": 79.873422,
      "end_time": "2023-05-01T17:49:19.593434",
      "environment_variables": {},
      "exception": null,
      "input_path": "__notebook__.ipynb",
      "output_path": "__notebook__.ipynb",
      "parameters": {},
      "start_time": "2023-05-01T17:47:59.720012",
      "version": "2.4.0"
    },
    "colab": {
      "provenance": []
    }
  },
  "nbformat": 4,
  "nbformat_minor": 5
}