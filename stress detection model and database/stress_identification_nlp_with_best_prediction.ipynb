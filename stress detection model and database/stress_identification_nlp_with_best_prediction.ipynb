{
  "cells": [
    {
      "cell_type": "code",
      "execution_count": 13,
      "id": "9ed504bc",
      "metadata": {
        "execution": {
          "iopub.execute_input": "2023-05-01T17:48:10.600775Z",
          "iopub.status.busy": "2023-05-01T17:48:10.600230Z",
          "iopub.status.idle": "2023-05-01T17:48:10.621520Z",
          "shell.execute_reply": "2023-05-01T17:48:10.620116Z"
        },
        "papermill": {
          "duration": 0.040258,
          "end_time": "2023-05-01T17:48:10.624688",
          "exception": false,
          "start_time": "2023-05-01T17:48:10.584430",
          "status": "completed"
        },
        "tags": [],
        "id": "9ed504bc"
      },
      "outputs": [],
      "source": [
        "# This Python 3 environment comes with many helpful analytics libraries installed\n",
        "# It is defined by the kaggle/python Docker image: https://github.com/kaggle/docker-python\n",
        "# For example, here's several helpful packages to load\n",
        "\n",
        "import numpy as np # linear algebra\n",
        "import pandas as pd # data processing, CSV file I/O (e.g. pd.read_csv)\n",
        "\n",
        "# Input data files are available in the read-only \"../input/\" directory\n",
        "# For example, running this (by clicking run or pressing Shift+Enter) will list all files under the input directory\n",
        "\n",
        "# import os\n",
        "# for dirname, _, filenames in os.walk('/kaggle/input'):\n",
        "#     for filename in filenames:\n",
        "#         print(os.path.join(dirname, filename))\n",
        "\n",
        "# You can write up to 20GB to the current directory (/kaggle/working/) that gets preserved as output when you create a version using \"Save & Run All\" \n",
        "# You can also write temporary files to /kaggle/temp/, but they won't be saved outside of the current session"
      ]
    },
    {
      "cell_type": "markdown",
      "id": "f203e425",
      "metadata": {
        "papermill": {
          "duration": 0.014064,
          "end_time": "2023-05-01T17:48:10.653523",
          "exception": false,
          "start_time": "2023-05-01T17:48:10.639459",
          "status": "completed"
        },
        "tags": [],
        "id": "f203e425"
      },
      "source": [
        "## Data preparation\n",
        "* getting information,shape of data\n",
        "* dropping unrequired columns\n",
        "* looking at labels unique values"
      ]
    },
    {
      "cell_type": "code",
      "execution_count": 15,
      "id": "6ee6dc8f",
      "metadata": {
        "execution": {
          "iopub.execute_input": "2023-05-01T17:48:10.685597Z",
          "iopub.status.busy": "2023-05-01T17:48:10.685197Z",
          "iopub.status.idle": "2023-05-01T17:48:10.776224Z",
          "shell.execute_reply": "2023-05-01T17:48:10.775295Z"
        },
        "papermill": {
          "duration": 0.110635,
          "end_time": "2023-05-01T17:48:10.778573",
          "exception": false,
          "start_time": "2023-05-01T17:48:10.667938",
          "status": "completed"
        },
        "tags": [],
        "colab": {
          "base_uri": "https://localhost:8080/",
          "height": 206
        },
        "id": "6ee6dc8f",
        "outputId": "fe702553-d052-4ebc-f431-914d8a291a7a"
      },
      "outputs": [
        {
          "output_type": "execute_result",
          "data": {
            "text/plain": [
              "          subreddit post_id sentence_range  \\\n",
              "0              ptsd  8601tu       (15, 20)   \n",
              "1        assistance  8lbrx9         (0, 5)   \n",
              "2              ptsd  9ch1zh       (15, 20)   \n",
              "3     relationships  7rorpp        [5, 10]   \n",
              "4  survivorsofabuse  9p2gbc         [0, 5]   \n",
              "\n",
              "                                                text  label  confidence  \\\n",
              "0  He said he had not felt that way before, sugge...      1         0.8   \n",
              "1  Hey there r/assistance, Not sure if this is th...      0         1.0   \n",
              "2  My mom then hit me with the newspaper and it s...      1         0.8   \n",
              "3  until i met my new boyfriend, he is amazing, h...      1         0.6   \n",
              "4  October is Domestic Violence Awareness Month a...      1         0.8   \n",
              "\n",
              "   social_timestamp  \n",
              "0        1521614353  \n",
              "1        1527009817  \n",
              "2        1535935605  \n",
              "3        1516429555  \n",
              "4        1539809005  "
            ],
            "text/html": [
              "\n",
              "  <div id=\"df-057f36e4-b3a5-431f-95db-65c65fabdef1\">\n",
              "    <div class=\"colab-df-container\">\n",
              "      <div>\n",
              "<style scoped>\n",
              "    .dataframe tbody tr th:only-of-type {\n",
              "        vertical-align: middle;\n",
              "    }\n",
              "\n",
              "    .dataframe tbody tr th {\n",
              "        vertical-align: top;\n",
              "    }\n",
              "\n",
              "    .dataframe thead th {\n",
              "        text-align: right;\n",
              "    }\n",
              "</style>\n",
              "<table border=\"1\" class=\"dataframe\">\n",
              "  <thead>\n",
              "    <tr style=\"text-align: right;\">\n",
              "      <th></th>\n",
              "      <th>subreddit</th>\n",
              "      <th>post_id</th>\n",
              "      <th>sentence_range</th>\n",
              "      <th>text</th>\n",
              "      <th>label</th>\n",
              "      <th>confidence</th>\n",
              "      <th>social_timestamp</th>\n",
              "    </tr>\n",
              "  </thead>\n",
              "  <tbody>\n",
              "    <tr>\n",
              "      <th>0</th>\n",
              "      <td>ptsd</td>\n",
              "      <td>8601tu</td>\n",
              "      <td>(15, 20)</td>\n",
              "      <td>He said he had not felt that way before, sugge...</td>\n",
              "      <td>1</td>\n",
              "      <td>0.8</td>\n",
              "      <td>1521614353</td>\n",
              "    </tr>\n",
              "    <tr>\n",
              "      <th>1</th>\n",
              "      <td>assistance</td>\n",
              "      <td>8lbrx9</td>\n",
              "      <td>(0, 5)</td>\n",
              "      <td>Hey there r/assistance, Not sure if this is th...</td>\n",
              "      <td>0</td>\n",
              "      <td>1.0</td>\n",
              "      <td>1527009817</td>\n",
              "    </tr>\n",
              "    <tr>\n",
              "      <th>2</th>\n",
              "      <td>ptsd</td>\n",
              "      <td>9ch1zh</td>\n",
              "      <td>(15, 20)</td>\n",
              "      <td>My mom then hit me with the newspaper and it s...</td>\n",
              "      <td>1</td>\n",
              "      <td>0.8</td>\n",
              "      <td>1535935605</td>\n",
              "    </tr>\n",
              "    <tr>\n",
              "      <th>3</th>\n",
              "      <td>relationships</td>\n",
              "      <td>7rorpp</td>\n",
              "      <td>[5, 10]</td>\n",
              "      <td>until i met my new boyfriend, he is amazing, h...</td>\n",
              "      <td>1</td>\n",
              "      <td>0.6</td>\n",
              "      <td>1516429555</td>\n",
              "    </tr>\n",
              "    <tr>\n",
              "      <th>4</th>\n",
              "      <td>survivorsofabuse</td>\n",
              "      <td>9p2gbc</td>\n",
              "      <td>[0, 5]</td>\n",
              "      <td>October is Domestic Violence Awareness Month a...</td>\n",
              "      <td>1</td>\n",
              "      <td>0.8</td>\n",
              "      <td>1539809005</td>\n",
              "    </tr>\n",
              "  </tbody>\n",
              "</table>\n",
              "</div>\n",
              "      <button class=\"colab-df-convert\" onclick=\"convertToInteractive('df-057f36e4-b3a5-431f-95db-65c65fabdef1')\"\n",
              "              title=\"Convert this dataframe to an interactive table.\"\n",
              "              style=\"display:none;\">\n",
              "        \n",
              "  <svg xmlns=\"http://www.w3.org/2000/svg\" height=\"24px\"viewBox=\"0 0 24 24\"\n",
              "       width=\"24px\">\n",
              "    <path d=\"M0 0h24v24H0V0z\" fill=\"none\"/>\n",
              "    <path d=\"M18.56 5.44l.94 2.06.94-2.06 2.06-.94-2.06-.94-.94-2.06-.94 2.06-2.06.94zm-11 1L8.5 8.5l.94-2.06 2.06-.94-2.06-.94L8.5 2.5l-.94 2.06-2.06.94zm10 10l.94 2.06.94-2.06 2.06-.94-2.06-.94-.94-2.06-.94 2.06-2.06.94z\"/><path d=\"M17.41 7.96l-1.37-1.37c-.4-.4-.92-.59-1.43-.59-.52 0-1.04.2-1.43.59L10.3 9.45l-7.72 7.72c-.78.78-.78 2.05 0 2.83L4 21.41c.39.39.9.59 1.41.59.51 0 1.02-.2 1.41-.59l7.78-7.78 2.81-2.81c.8-.78.8-2.07 0-2.86zM5.41 20L4 18.59l7.72-7.72 1.47 1.35L5.41 20z\"/>\n",
              "  </svg>\n",
              "      </button>\n",
              "      \n",
              "  <style>\n",
              "    .colab-df-container {\n",
              "      display:flex;\n",
              "      flex-wrap:wrap;\n",
              "      gap: 12px;\n",
              "    }\n",
              "\n",
              "    .colab-df-convert {\n",
              "      background-color: #E8F0FE;\n",
              "      border: none;\n",
              "      border-radius: 50%;\n",
              "      cursor: pointer;\n",
              "      display: none;\n",
              "      fill: #1967D2;\n",
              "      height: 32px;\n",
              "      padding: 0 0 0 0;\n",
              "      width: 32px;\n",
              "    }\n",
              "\n",
              "    .colab-df-convert:hover {\n",
              "      background-color: #E2EBFA;\n",
              "      box-shadow: 0px 1px 2px rgba(60, 64, 67, 0.3), 0px 1px 3px 1px rgba(60, 64, 67, 0.15);\n",
              "      fill: #174EA6;\n",
              "    }\n",
              "\n",
              "    [theme=dark] .colab-df-convert {\n",
              "      background-color: #3B4455;\n",
              "      fill: #D2E3FC;\n",
              "    }\n",
              "\n",
              "    [theme=dark] .colab-df-convert:hover {\n",
              "      background-color: #434B5C;\n",
              "      box-shadow: 0px 1px 3px 1px rgba(0, 0, 0, 0.15);\n",
              "      filter: drop-shadow(0px 1px 2px rgba(0, 0, 0, 0.3));\n",
              "      fill: #FFFFFF;\n",
              "    }\n",
              "  </style>\n",
              "\n",
              "      <script>\n",
              "        const buttonEl =\n",
              "          document.querySelector('#df-057f36e4-b3a5-431f-95db-65c65fabdef1 button.colab-df-convert');\n",
              "        buttonEl.style.display =\n",
              "          google.colab.kernel.accessAllowed ? 'block' : 'none';\n",
              "\n",
              "        async function convertToInteractive(key) {\n",
              "          const element = document.querySelector('#df-057f36e4-b3a5-431f-95db-65c65fabdef1');\n",
              "          const dataTable =\n",
              "            await google.colab.kernel.invokeFunction('convertToInteractive',\n",
              "                                                     [key], {});\n",
              "          if (!dataTable) return;\n",
              "\n",
              "          const docLinkHtml = 'Like what you see? Visit the ' +\n",
              "            '<a target=\"_blank\" href=https://colab.research.google.com/notebooks/data_table.ipynb>data table notebook</a>'\n",
              "            + ' to learn more about interactive tables.';\n",
              "          element.innerHTML = '';\n",
              "          dataTable['output_type'] = 'display_data';\n",
              "          await google.colab.output.renderOutput(dataTable, element);\n",
              "          const docLink = document.createElement('div');\n",
              "          docLink.innerHTML = docLinkHtml;\n",
              "          element.appendChild(docLink);\n",
              "        }\n",
              "      </script>\n",
              "    </div>\n",
              "  </div>\n",
              "  "
            ]
          },
          "metadata": {},
          "execution_count": 15
        }
      ],
      "source": [
        "df = pd.read_csv(\"Stress.csv\")\n",
        "df.head()"
      ]
    },
    {
      "cell_type": "code",
      "execution_count": 16,
      "id": "22af633e",
      "metadata": {
        "execution": {
          "iopub.execute_input": "2023-05-01T17:48:10.810731Z",
          "iopub.status.busy": "2023-05-01T17:48:10.810288Z",
          "iopub.status.idle": "2023-05-01T17:48:10.837372Z",
          "shell.execute_reply": "2023-05-01T17:48:10.835910Z"
        },
        "papermill": {
          "duration": 0.045698,
          "end_time": "2023-05-01T17:48:10.839730",
          "exception": false,
          "start_time": "2023-05-01T17:48:10.794032",
          "status": "completed"
        },
        "tags": [],
        "colab": {
          "base_uri": "https://localhost:8080/"
        },
        "id": "22af633e",
        "outputId": "7f5d5d69-33d8-4d5f-de7e-1e52e0e617bb"
      },
      "outputs": [
        {
          "output_type": "stream",
          "name": "stdout",
          "text": [
            "<class 'pandas.core.frame.DataFrame'>\n",
            "RangeIndex: 2838 entries, 0 to 2837\n",
            "Data columns (total 7 columns):\n",
            " #   Column            Non-Null Count  Dtype  \n",
            "---  ------            --------------  -----  \n",
            " 0   subreddit         2838 non-null   object \n",
            " 1   post_id           2838 non-null   object \n",
            " 2   sentence_range    2838 non-null   object \n",
            " 3   text              2838 non-null   object \n",
            " 4   label             2838 non-null   int64  \n",
            " 5   confidence        2838 non-null   float64\n",
            " 6   social_timestamp  2838 non-null   int64  \n",
            "dtypes: float64(1), int64(2), object(4)\n",
            "memory usage: 155.3+ KB\n"
          ]
        },
        {
          "output_type": "execute_result",
          "data": {
            "text/plain": [
              "((2838, 7), None)"
            ]
          },
          "metadata": {},
          "execution_count": 16
        }
      ],
      "source": [
        "df.shape,df.info()"
      ]
    },
    {
      "cell_type": "code",
      "execution_count": 17,
      "id": "97267128",
      "metadata": {
        "execution": {
          "iopub.execute_input": "2023-05-01T17:48:10.871992Z",
          "iopub.status.busy": "2023-05-01T17:48:10.871123Z",
          "iopub.status.idle": "2023-05-01T17:48:10.887807Z",
          "shell.execute_reply": "2023-05-01T17:48:10.886416Z"
        },
        "papermill": {
          "duration": 0.035903,
          "end_time": "2023-05-01T17:48:10.890521",
          "exception": false,
          "start_time": "2023-05-01T17:48:10.854618",
          "status": "completed"
        },
        "tags": [],
        "colab": {
          "base_uri": "https://localhost:8080/",
          "height": 143
        },
        "id": "97267128",
        "outputId": "e2e7f8a7-9415-49a5-f95c-8252eac7621b"
      },
      "outputs": [
        {
          "output_type": "execute_result",
          "data": {
            "text/plain": [
              "                                                   text  label\n",
              "542   When it is his weekend off). He grumbles and y...      1\n",
              "1678  I have been thinking about it and I think that...      1\n",
              "1701  I currently have $7k in my bank account. I hav...      0"
            ],
            "text/html": [
              "\n",
              "  <div id=\"df-c1652b37-e57e-4f2d-846b-9fbc805d0b8c\">\n",
              "    <div class=\"colab-df-container\">\n",
              "      <div>\n",
              "<style scoped>\n",
              "    .dataframe tbody tr th:only-of-type {\n",
              "        vertical-align: middle;\n",
              "    }\n",
              "\n",
              "    .dataframe tbody tr th {\n",
              "        vertical-align: top;\n",
              "    }\n",
              "\n",
              "    .dataframe thead th {\n",
              "        text-align: right;\n",
              "    }\n",
              "</style>\n",
              "<table border=\"1\" class=\"dataframe\">\n",
              "  <thead>\n",
              "    <tr style=\"text-align: right;\">\n",
              "      <th></th>\n",
              "      <th>text</th>\n",
              "      <th>label</th>\n",
              "    </tr>\n",
              "  </thead>\n",
              "  <tbody>\n",
              "    <tr>\n",
              "      <th>542</th>\n",
              "      <td>When it is his weekend off). He grumbles and y...</td>\n",
              "      <td>1</td>\n",
              "    </tr>\n",
              "    <tr>\n",
              "      <th>1678</th>\n",
              "      <td>I have been thinking about it and I think that...</td>\n",
              "      <td>1</td>\n",
              "    </tr>\n",
              "    <tr>\n",
              "      <th>1701</th>\n",
              "      <td>I currently have $7k in my bank account. I hav...</td>\n",
              "      <td>0</td>\n",
              "    </tr>\n",
              "  </tbody>\n",
              "</table>\n",
              "</div>\n",
              "      <button class=\"colab-df-convert\" onclick=\"convertToInteractive('df-c1652b37-e57e-4f2d-846b-9fbc805d0b8c')\"\n",
              "              title=\"Convert this dataframe to an interactive table.\"\n",
              "              style=\"display:none;\">\n",
              "        \n",
              "  <svg xmlns=\"http://www.w3.org/2000/svg\" height=\"24px\"viewBox=\"0 0 24 24\"\n",
              "       width=\"24px\">\n",
              "    <path d=\"M0 0h24v24H0V0z\" fill=\"none\"/>\n",
              "    <path d=\"M18.56 5.44l.94 2.06.94-2.06 2.06-.94-2.06-.94-.94-2.06-.94 2.06-2.06.94zm-11 1L8.5 8.5l.94-2.06 2.06-.94-2.06-.94L8.5 2.5l-.94 2.06-2.06.94zm10 10l.94 2.06.94-2.06 2.06-.94-2.06-.94-.94-2.06-.94 2.06-2.06.94z\"/><path d=\"M17.41 7.96l-1.37-1.37c-.4-.4-.92-.59-1.43-.59-.52 0-1.04.2-1.43.59L10.3 9.45l-7.72 7.72c-.78.78-.78 2.05 0 2.83L4 21.41c.39.39.9.59 1.41.59.51 0 1.02-.2 1.41-.59l7.78-7.78 2.81-2.81c.8-.78.8-2.07 0-2.86zM5.41 20L4 18.59l7.72-7.72 1.47 1.35L5.41 20z\"/>\n",
              "  </svg>\n",
              "      </button>\n",
              "      \n",
              "  <style>\n",
              "    .colab-df-container {\n",
              "      display:flex;\n",
              "      flex-wrap:wrap;\n",
              "      gap: 12px;\n",
              "    }\n",
              "\n",
              "    .colab-df-convert {\n",
              "      background-color: #E8F0FE;\n",
              "      border: none;\n",
              "      border-radius: 50%;\n",
              "      cursor: pointer;\n",
              "      display: none;\n",
              "      fill: #1967D2;\n",
              "      height: 32px;\n",
              "      padding: 0 0 0 0;\n",
              "      width: 32px;\n",
              "    }\n",
              "\n",
              "    .colab-df-convert:hover {\n",
              "      background-color: #E2EBFA;\n",
              "      box-shadow: 0px 1px 2px rgba(60, 64, 67, 0.3), 0px 1px 3px 1px rgba(60, 64, 67, 0.15);\n",
              "      fill: #174EA6;\n",
              "    }\n",
              "\n",
              "    [theme=dark] .colab-df-convert {\n",
              "      background-color: #3B4455;\n",
              "      fill: #D2E3FC;\n",
              "    }\n",
              "\n",
              "    [theme=dark] .colab-df-convert:hover {\n",
              "      background-color: #434B5C;\n",
              "      box-shadow: 0px 1px 3px 1px rgba(0, 0, 0, 0.15);\n",
              "      filter: drop-shadow(0px 1px 2px rgba(0, 0, 0, 0.3));\n",
              "      fill: #FFFFFF;\n",
              "    }\n",
              "  </style>\n",
              "\n",
              "      <script>\n",
              "        const buttonEl =\n",
              "          document.querySelector('#df-c1652b37-e57e-4f2d-846b-9fbc805d0b8c button.colab-df-convert');\n",
              "        buttonEl.style.display =\n",
              "          google.colab.kernel.accessAllowed ? 'block' : 'none';\n",
              "\n",
              "        async function convertToInteractive(key) {\n",
              "          const element = document.querySelector('#df-c1652b37-e57e-4f2d-846b-9fbc805d0b8c');\n",
              "          const dataTable =\n",
              "            await google.colab.kernel.invokeFunction('convertToInteractive',\n",
              "                                                     [key], {});\n",
              "          if (!dataTable) return;\n",
              "\n",
              "          const docLinkHtml = 'Like what you see? Visit the ' +\n",
              "            '<a target=\"_blank\" href=https://colab.research.google.com/notebooks/data_table.ipynb>data table notebook</a>'\n",
              "            + ' to learn more about interactive tables.';\n",
              "          element.innerHTML = '';\n",
              "          dataTable['output_type'] = 'display_data';\n",
              "          await google.colab.output.renderOutput(dataTable, element);\n",
              "          const docLink = document.createElement('div');\n",
              "          docLink.innerHTML = docLinkHtml;\n",
              "          element.appendChild(docLink);\n",
              "        }\n",
              "      </script>\n",
              "    </div>\n",
              "  </div>\n",
              "  "
            ]
          },
          "metadata": {},
          "execution_count": 17
        }
      ],
      "source": [
        "not_used_cols = ['subreddit','post_id','sentence_range','confidence','social_timestamp']\n",
        "df1 = df.drop(not_used_cols,axis=1)\n",
        "df1.sample(3)"
      ]
    },
    {
      "cell_type": "code",
      "execution_count": 18,
      "id": "4600fb79",
      "metadata": {
        "execution": {
          "iopub.execute_input": "2023-05-01T17:48:10.923894Z",
          "iopub.status.busy": "2023-05-01T17:48:10.922723Z",
          "iopub.status.idle": "2023-05-01T17:48:10.931768Z",
          "shell.execute_reply": "2023-05-01T17:48:10.930838Z"
        },
        "papermill": {
          "duration": 0.028252,
          "end_time": "2023-05-01T17:48:10.933962",
          "exception": false,
          "start_time": "2023-05-01T17:48:10.905710",
          "status": "completed"
        },
        "tags": [],
        "colab": {
          "base_uri": "https://localhost:8080/"
        },
        "id": "4600fb79",
        "outputId": "5ab0dae5-bb62-4cc0-cdea-f00883d92951"
      },
      "outputs": [
        {
          "output_type": "execute_result",
          "data": {
            "text/plain": [
              "array([1, 0])"
            ]
          },
          "metadata": {},
          "execution_count": 18
        }
      ],
      "source": [
        "df1['label'].unique()"
      ]
    },
    {
      "cell_type": "markdown",
      "id": "ad997988",
      "metadata": {
        "papermill": {
          "duration": 0.01465,
          "end_time": "2023-05-01T17:48:10.963768",
          "exception": false,
          "start_time": "2023-05-01T17:48:10.949118",
          "status": "completed"
        },
        "tags": [],
        "id": "ad997988"
      },
      "source": [
        "## Text processing\n",
        "* importing required libraries (nltk,spacy,urllib,re etc.)\n",
        "* downloading required database (omw), wordnet, punkt, stopwords\n",
        "* cleaning data (with regualr expression)"
      ]
    },
    {
      "cell_type": "code",
      "execution_count": 19,
      "id": "d757bd72",
      "metadata": {
        "execution": {
          "iopub.execute_input": "2023-05-01T17:48:10.995761Z",
          "iopub.status.busy": "2023-05-01T17:48:10.995365Z",
          "iopub.status.idle": "2023-05-01T17:48:28.752529Z",
          "shell.execute_reply": "2023-05-01T17:48:28.751396Z"
        },
        "papermill": {
          "duration": 17.77643,
          "end_time": "2023-05-01T17:48:28.755190",
          "exception": false,
          "start_time": "2023-05-01T17:48:10.978760",
          "status": "completed"
        },
        "tags": [],
        "id": "d757bd72"
      },
      "outputs": [],
      "source": [
        "import nltk\n",
        "import re\n",
        "from urllib.parse import urlparse\n",
        "from spacy import load\n",
        "from nltk.stem import WordNetLemmatizer\n",
        "from nltk.corpus import stopwords\n",
        "from nltk.tokenize import word_tokenize"
      ]
    },
    {
      "cell_type": "code",
      "execution_count": 20,
      "id": "2b9c5426",
      "metadata": {
        "execution": {
          "iopub.execute_input": "2023-05-01T17:48:28.789867Z",
          "iopub.status.busy": "2023-05-01T17:48:28.789050Z",
          "iopub.status.idle": "2023-05-01T17:48:31.472530Z",
          "shell.execute_reply": "2023-05-01T17:48:31.471083Z"
        },
        "papermill": {
          "duration": 2.703846,
          "end_time": "2023-05-01T17:48:31.475680",
          "exception": false,
          "start_time": "2023-05-01T17:48:28.771834",
          "status": "completed"
        },
        "tags": [],
        "colab": {
          "base_uri": "https://localhost:8080/"
        },
        "id": "2b9c5426",
        "outputId": "d0928bae-6af9-4a05-8a04-9b9e311339f7"
      },
      "outputs": [
        {
          "output_type": "stream",
          "name": "stderr",
          "text": [
            "[nltk_data] Downloading package omw-1.4 to /root/nltk_data...\n",
            "[nltk_data] Downloading package wordnet to /root/nltk_data...\n",
            "[nltk_data] Downloading package wordnet2022 to /root/nltk_data...\n",
            "[nltk_data]   Unzipping corpora/wordnet2022.zip.\n",
            "[nltk_data] Downloading package punkt to /root/nltk_data...\n",
            "[nltk_data]   Unzipping tokenizers/punkt.zip.\n"
          ]
        },
        {
          "output_type": "stream",
          "name": "stdout",
          "text": [
            "cp: cannot stat '/usr/share/nltk_data/corpora/wordnet2022': No such file or directory\n"
          ]
        },
        {
          "output_type": "stream",
          "name": "stderr",
          "text": [
            "[nltk_data] Downloading package stopwords to /root/nltk_data...\n",
            "[nltk_data]   Unzipping corpora/stopwords.zip.\n"
          ]
        }
      ],
      "source": [
        "nltk.download('omw-1.4') # Open Multilingual Wordnet, this is an lexical database \n",
        "nltk.download('wordnet') \n",
        "nltk.download('wordnet2022')\n",
        "nltk.download('punkt')\n",
        "nltk.download('stopwords')\n",
        "! cp -rf /usr/share/nltk_data/corpora/wordnet2022 /usr/share/nltk_data/corpora/wordnet"
      ]
    },
    {
      "cell_type": "code",
      "execution_count": 21,
      "id": "f71006da",
      "metadata": {
        "execution": {
          "iopub.execute_input": "2023-05-01T17:48:31.509636Z",
          "iopub.status.busy": "2023-05-01T17:48:31.508827Z",
          "iopub.status.idle": "2023-05-01T17:48:31.519974Z",
          "shell.execute_reply": "2023-05-01T17:48:31.518516Z"
        },
        "papermill": {
          "duration": 0.03111,
          "end_time": "2023-05-01T17:48:31.522591",
          "exception": false,
          "start_time": "2023-05-01T17:48:31.491481",
          "status": "completed"
        },
        "tags": [],
        "colab": {
          "base_uri": "https://localhost:8080/"
        },
        "id": "f71006da",
        "outputId": "7ca86f8b-24a4-4dff-efe6-6aa87ee32b98"
      },
      "outputs": [
        {
          "output_type": "stream",
          "name": "stdout",
          "text": [
            "['i', 'me', 'my', 'myself', 'we', 'our', 'ours', 'ourselves', 'you', \"you're\", \"you've\", \"you'll\", \"you'd\", 'your', 'yours', 'yourself', 'yourselves', 'he', 'him', 'his', 'himself', 'she', \"she's\", 'her', 'hers', 'herself', 'it', \"it's\", 'its', 'itself', 'they', 'them', 'their', 'theirs', 'themselves', 'what', 'which', 'who', 'whom', 'this', 'that', \"that'll\", 'these', 'those', 'am', 'is', 'are', 'was', 'were', 'be', 'been', 'being', 'have', 'has', 'had', 'having', 'do', 'does', 'did', 'doing', 'a', 'an', 'the', 'and', 'but', 'if', 'or', 'because', 'as', 'until', 'while', 'of', 'at', 'by', 'for', 'with', 'about', 'against', 'between', 'into', 'through', 'during', 'before', 'after', 'above', 'below', 'to', 'from', 'up', 'down', 'in', 'out', 'on', 'off', 'over', 'under', 'again', 'further', 'then', 'once', 'here', 'there', 'when', 'where', 'why', 'how', 'all', 'any', 'both', 'each', 'few', 'more', 'most', 'other', 'some', 'such', 'no', 'nor', 'not', 'only', 'own', 'same', 'so', 'than', 'too', 'very', 's', 't', 'can', 'will', 'just', 'don', \"don't\", 'should', \"should've\", 'now', 'd', 'll', 'm', 'o', 're', 've', 'y', 'ain', 'aren', \"aren't\", 'couldn', \"couldn't\", 'didn', \"didn't\", 'doesn', \"doesn't\", 'hadn', \"hadn't\", 'hasn', \"hasn't\", 'haven', \"haven't\", 'isn', \"isn't\", 'ma', 'mightn', \"mightn't\", 'mustn', \"mustn't\", 'needn', \"needn't\", 'shan', \"shan't\", 'shouldn', \"shouldn't\", 'wasn', \"wasn't\", 'weren', \"weren't\", 'won', \"won't\", 'wouldn', \"wouldn't\"]\n"
          ]
        }
      ],
      "source": [
        "lemmatizer = WordNetLemmatizer()\n",
        "stop_words = list(stopwords.words('english'))\n",
        "print(stop_words)"
      ]
    },
    {
      "cell_type": "markdown",
      "id": "166e7be7",
      "metadata": {
        "papermill": {
          "duration": 0.015553,
          "end_time": "2023-05-01T17:48:31.554225",
          "exception": false,
          "start_time": "2023-05-01T17:48:31.538672",
          "status": "completed"
        },
        "tags": [],
        "id": "166e7be7"
      },
      "source": [
        "### Regular expressions for cleaning text data"
      ]
    },
    {
      "cell_type": "code",
      "execution_count": 22,
      "id": "db2a62e0",
      "metadata": {
        "execution": {
          "iopub.execute_input": "2023-05-01T17:48:31.588646Z",
          "iopub.status.busy": "2023-05-01T17:48:31.587678Z",
          "iopub.status.idle": "2023-05-01T17:48:31.598704Z",
          "shell.execute_reply": "2023-05-01T17:48:31.597361Z"
        },
        "papermill": {
          "duration": 0.032232,
          "end_time": "2023-05-01T17:48:31.602027",
          "exception": false,
          "start_time": "2023-05-01T17:48:31.569795",
          "status": "completed"
        },
        "tags": [],
        "id": "db2a62e0"
      },
      "outputs": [],
      "source": [
        "def textPocess(sent):\n",
        "    try:\n",
        "        # brackets replacing by space\n",
        "        sent = re.sub('[][)(]',' ',sent)\n",
        "\n",
        "        # url removing\n",
        "        sent = [word for word in sent.split() if not urlparse(word).scheme]\n",
        "        sent = ' '.join(sent)\n",
        "\n",
        "        # removing escap characters\n",
        "        sent = re.sub(r'\\@\\w+','',sent)\n",
        "\n",
        "        # removing html tags \n",
        "        sent = re.sub(re.compile(\"<.*?>\"),'',sent)\n",
        "\n",
        "        # getting only characters and numbers from text\n",
        "        sent = re.sub(\"[^A-Za-z0-9]\",' ',sent)\n",
        "\n",
        "        # lower case all words\n",
        "        sent = sent.lower()\n",
        "        \n",
        "        # strip all words from sentences\n",
        "        sent = [word.strip() for word in sent.split()]\n",
        "        sent = ' '.join(sent)\n",
        "\n",
        "        # word tokenization\n",
        "        tokens = word_tokenize(sent)\n",
        "        \n",
        "        # removing words which are in stopwords\n",
        "        for word in tokens:\n",
        "            if word in stop_words:\n",
        "                tokens.remove(word)\n",
        "        \n",
        "        # lemmatization\n",
        "        sent = [lemmatizer.lemmatize(word) for word in tokens]\n",
        "        sent = ' '.join(sent)\n",
        "        return sent\n",
        "    \n",
        "    except Exception as ex:\n",
        "        print(sent,\"\\n\")\n",
        "        print(\"Error \",ex)\n",
        "    "
      ]
    },
    {
      "cell_type": "code",
      "execution_count": 23,
      "id": "34909fbc",
      "metadata": {
        "execution": {
          "iopub.execute_input": "2023-05-01T17:48:31.636133Z",
          "iopub.status.busy": "2023-05-01T17:48:31.634969Z",
          "iopub.status.idle": "2023-05-01T17:48:37.723820Z",
          "shell.execute_reply": "2023-05-01T17:48:37.722306Z"
        },
        "papermill": {
          "duration": 6.108775,
          "end_time": "2023-05-01T17:48:37.726806",
          "exception": false,
          "start_time": "2023-05-01T17:48:31.618031",
          "status": "completed"
        },
        "tags": [],
        "colab": {
          "base_uri": "https://localhost:8080/",
          "height": 206
        },
        "id": "34909fbc",
        "outputId": "d598e584-5fc9-4c2d-9038-74ddd6e4e513"
      },
      "outputs": [
        {
          "output_type": "execute_result",
          "data": {
            "text/plain": [
              "                                                text  label  \\\n",
              "0  He said he had not felt that way before, sugge...      1   \n",
              "1  Hey there r/assistance, Not sure if this is th...      0   \n",
              "2  My mom then hit me with the newspaper and it s...      1   \n",
              "3  until i met my new boyfriend, he is amazing, h...      1   \n",
              "4  October is Domestic Violence Awareness Month a...      1   \n",
              "\n",
              "                                      processed_text  \n",
              "0  said had felt way suggeted go rest so trigger ...  \n",
              "1  hey r assistance sure right place post but go ...  \n",
              "2  mom hit newspaper shocked that would this know...  \n",
              "3  met new boyfriend amazing kind sweet is good s...  \n",
              "4  october domestic violence awareness month dome...  "
            ],
            "text/html": [
              "\n",
              "  <div id=\"df-85032121-eb2b-4882-90b8-7764987dce1c\">\n",
              "    <div class=\"colab-df-container\">\n",
              "      <div>\n",
              "<style scoped>\n",
              "    .dataframe tbody tr th:only-of-type {\n",
              "        vertical-align: middle;\n",
              "    }\n",
              "\n",
              "    .dataframe tbody tr th {\n",
              "        vertical-align: top;\n",
              "    }\n",
              "\n",
              "    .dataframe thead th {\n",
              "        text-align: right;\n",
              "    }\n",
              "</style>\n",
              "<table border=\"1\" class=\"dataframe\">\n",
              "  <thead>\n",
              "    <tr style=\"text-align: right;\">\n",
              "      <th></th>\n",
              "      <th>text</th>\n",
              "      <th>label</th>\n",
              "      <th>processed_text</th>\n",
              "    </tr>\n",
              "  </thead>\n",
              "  <tbody>\n",
              "    <tr>\n",
              "      <th>0</th>\n",
              "      <td>He said he had not felt that way before, sugge...</td>\n",
              "      <td>1</td>\n",
              "      <td>said had felt way suggeted go rest so trigger ...</td>\n",
              "    </tr>\n",
              "    <tr>\n",
              "      <th>1</th>\n",
              "      <td>Hey there r/assistance, Not sure if this is th...</td>\n",
              "      <td>0</td>\n",
              "      <td>hey r assistance sure right place post but go ...</td>\n",
              "    </tr>\n",
              "    <tr>\n",
              "      <th>2</th>\n",
              "      <td>My mom then hit me with the newspaper and it s...</td>\n",
              "      <td>1</td>\n",
              "      <td>mom hit newspaper shocked that would this know...</td>\n",
              "    </tr>\n",
              "    <tr>\n",
              "      <th>3</th>\n",
              "      <td>until i met my new boyfriend, he is amazing, h...</td>\n",
              "      <td>1</td>\n",
              "      <td>met new boyfriend amazing kind sweet is good s...</td>\n",
              "    </tr>\n",
              "    <tr>\n",
              "      <th>4</th>\n",
              "      <td>October is Domestic Violence Awareness Month a...</td>\n",
              "      <td>1</td>\n",
              "      <td>october domestic violence awareness month dome...</td>\n",
              "    </tr>\n",
              "  </tbody>\n",
              "</table>\n",
              "</div>\n",
              "      <button class=\"colab-df-convert\" onclick=\"convertToInteractive('df-85032121-eb2b-4882-90b8-7764987dce1c')\"\n",
              "              title=\"Convert this dataframe to an interactive table.\"\n",
              "              style=\"display:none;\">\n",
              "        \n",
              "  <svg xmlns=\"http://www.w3.org/2000/svg\" height=\"24px\"viewBox=\"0 0 24 24\"\n",
              "       width=\"24px\">\n",
              "    <path d=\"M0 0h24v24H0V0z\" fill=\"none\"/>\n",
              "    <path d=\"M18.56 5.44l.94 2.06.94-2.06 2.06-.94-2.06-.94-.94-2.06-.94 2.06-2.06.94zm-11 1L8.5 8.5l.94-2.06 2.06-.94-2.06-.94L8.5 2.5l-.94 2.06-2.06.94zm10 10l.94 2.06.94-2.06 2.06-.94-2.06-.94-.94-2.06-.94 2.06-2.06.94z\"/><path d=\"M17.41 7.96l-1.37-1.37c-.4-.4-.92-.59-1.43-.59-.52 0-1.04.2-1.43.59L10.3 9.45l-7.72 7.72c-.78.78-.78 2.05 0 2.83L4 21.41c.39.39.9.59 1.41.59.51 0 1.02-.2 1.41-.59l7.78-7.78 2.81-2.81c.8-.78.8-2.07 0-2.86zM5.41 20L4 18.59l7.72-7.72 1.47 1.35L5.41 20z\"/>\n",
              "  </svg>\n",
              "      </button>\n",
              "      \n",
              "  <style>\n",
              "    .colab-df-container {\n",
              "      display:flex;\n",
              "      flex-wrap:wrap;\n",
              "      gap: 12px;\n",
              "    }\n",
              "\n",
              "    .colab-df-convert {\n",
              "      background-color: #E8F0FE;\n",
              "      border: none;\n",
              "      border-radius: 50%;\n",
              "      cursor: pointer;\n",
              "      display: none;\n",
              "      fill: #1967D2;\n",
              "      height: 32px;\n",
              "      padding: 0 0 0 0;\n",
              "      width: 32px;\n",
              "    }\n",
              "\n",
              "    .colab-df-convert:hover {\n",
              "      background-color: #E2EBFA;\n",
              "      box-shadow: 0px 1px 2px rgba(60, 64, 67, 0.3), 0px 1px 3px 1px rgba(60, 64, 67, 0.15);\n",
              "      fill: #174EA6;\n",
              "    }\n",
              "\n",
              "    [theme=dark] .colab-df-convert {\n",
              "      background-color: #3B4455;\n",
              "      fill: #D2E3FC;\n",
              "    }\n",
              "\n",
              "    [theme=dark] .colab-df-convert:hover {\n",
              "      background-color: #434B5C;\n",
              "      box-shadow: 0px 1px 3px 1px rgba(0, 0, 0, 0.15);\n",
              "      filter: drop-shadow(0px 1px 2px rgba(0, 0, 0, 0.3));\n",
              "      fill: #FFFFFF;\n",
              "    }\n",
              "  </style>\n",
              "\n",
              "      <script>\n",
              "        const buttonEl =\n",
              "          document.querySelector('#df-85032121-eb2b-4882-90b8-7764987dce1c button.colab-df-convert');\n",
              "        buttonEl.style.display =\n",
              "          google.colab.kernel.accessAllowed ? 'block' : 'none';\n",
              "\n",
              "        async function convertToInteractive(key) {\n",
              "          const element = document.querySelector('#df-85032121-eb2b-4882-90b8-7764987dce1c');\n",
              "          const dataTable =\n",
              "            await google.colab.kernel.invokeFunction('convertToInteractive',\n",
              "                                                     [key], {});\n",
              "          if (!dataTable) return;\n",
              "\n",
              "          const docLinkHtml = 'Like what you see? Visit the ' +\n",
              "            '<a target=\"_blank\" href=https://colab.research.google.com/notebooks/data_table.ipynb>data table notebook</a>'\n",
              "            + ' to learn more about interactive tables.';\n",
              "          element.innerHTML = '';\n",
              "          dataTable['output_type'] = 'display_data';\n",
              "          await google.colab.output.renderOutput(dataTable, element);\n",
              "          const docLink = document.createElement('div');\n",
              "          docLink.innerHTML = docLinkHtml;\n",
              "          element.appendChild(docLink);\n",
              "        }\n",
              "      </script>\n",
              "    </div>\n",
              "  </div>\n",
              "  "
            ]
          },
          "metadata": {},
          "execution_count": 23
        }
      ],
      "source": [
        "df1['processed_text'] = df1['text'].apply(lambda text: textPocess(text))\n",
        "df1.head()"
      ]
    },
    {
      "cell_type": "code",
      "execution_count": 24,
      "id": "8a07273a",
      "metadata": {
        "execution": {
          "iopub.execute_input": "2023-05-01T17:48:37.766319Z",
          "iopub.status.busy": "2023-05-01T17:48:37.765379Z",
          "iopub.status.idle": "2023-05-01T17:48:37.771887Z",
          "shell.execute_reply": "2023-05-01T17:48:37.770984Z"
        },
        "papermill": {
          "duration": 0.028464,
          "end_time": "2023-05-01T17:48:37.775518",
          "exception": false,
          "start_time": "2023-05-01T17:48:37.747054",
          "status": "completed"
        },
        "tags": [],
        "colab": {
          "base_uri": "https://localhost:8080/"
        },
        "id": "8a07273a",
        "outputId": "c832b0e9-c436-45ef-bc88-18f353d384a5"
      },
      "outputs": [
        {
          "output_type": "stream",
          "name": "stdout",
          "text": [
            "without process ---->  He said he had not felt that way before, suggeted I go rest and so ..TRIGGER AHEAD IF YOUI'RE A HYPOCONDRIAC LIKE ME: i decide to look up \"feelings of doom\" in hopes of maybe getting sucked into some rabbit hole of ludicrous conspiracy, a stupid \"are you psychic\" test or new age b.s., something I could even laugh at down the road. No, I ended up reading that this sense of doom can be indicative of various health ailments; one of which I am prone to.. So on top of my \"doom\" to my gloom..I am now f'n worried about my heart. I do happen to have a physical in 48 hours.\n",
            "\n",
            "after process ---->  said had felt way suggeted go rest so trigger ahead youi hypocondriac like decide look feeling doom hope maybe getting sucked some rabbit hole ludicrous conspiracy stupid you psychic test new age b something could even laugh down road ended reading this sense doom be indicative various health ailment one which am prone so top my doom my gloom am f n worried my heart i do happen have a physical 48 hour\n"
          ]
        }
      ],
      "source": [
        "print(\"without process ----> \",df1['text'].iloc[0],end='\\n\\n')\n",
        "print(\"after process ----> \",df1['processed_text'].iloc[0])"
      ]
    },
    {
      "cell_type": "markdown",
      "id": "1760dcbb",
      "metadata": {
        "papermill": {
          "duration": 0.01609,
          "end_time": "2023-05-01T17:48:37.819324",
          "exception": false,
          "start_time": "2023-05-01T17:48:37.803234",
          "status": "completed"
        },
        "tags": [],
        "id": "1760dcbb"
      },
      "source": [
        "## Vectorization / Word embedding\n",
        "* BOW (Bag Of Words) / TF-IDF vectorizer\n",
        "* converting it into dataframes"
      ]
    },
    {
      "cell_type": "markdown",
      "id": "74745a72",
      "metadata": {
        "papermill": {
          "duration": 0.026431,
          "end_time": "2023-05-01T17:48:37.862378",
          "exception": false,
          "start_time": "2023-05-01T17:48:37.835947",
          "status": "completed"
        },
        "tags": [],
        "id": "74745a72"
      },
      "source": [
        "### --> BOW (Bag Of Word) / count vectorizer"
      ]
    },
    {
      "cell_type": "code",
      "execution_count": 25,
      "id": "45146028",
      "metadata": {
        "execution": {
          "iopub.execute_input": "2023-05-01T17:48:37.897286Z",
          "iopub.status.busy": "2023-05-01T17:48:37.896408Z",
          "iopub.status.idle": "2023-05-01T17:48:37.902129Z",
          "shell.execute_reply": "2023-05-01T17:48:37.901090Z"
        },
        "papermill": {
          "duration": 0.026398,
          "end_time": "2023-05-01T17:48:37.904763",
          "exception": false,
          "start_time": "2023-05-01T17:48:37.878365",
          "status": "completed"
        },
        "tags": [],
        "id": "45146028"
      },
      "outputs": [],
      "source": [
        "from sklearn.feature_extraction.text import CountVectorizer\n",
        "MIN_DF = 1 \n",
        "# min_df is used for removing terms that appear too infrequently. \n",
        "# For example: min_df = 0.01 means \"ignore terms that appear in less than 1% of the documents\". "
      ]
    },
    {
      "cell_type": "code",
      "execution_count": 26,
      "id": "09116055",
      "metadata": {
        "execution": {
          "iopub.execute_input": "2023-05-01T17:48:37.940515Z",
          "iopub.status.busy": "2023-05-01T17:48:37.939660Z",
          "iopub.status.idle": "2023-05-01T17:48:38.585209Z",
          "shell.execute_reply": "2023-05-01T17:48:38.583937Z"
        },
        "papermill": {
          "duration": 0.666569,
          "end_time": "2023-05-01T17:48:38.588102",
          "exception": false,
          "start_time": "2023-05-01T17:48:37.921533",
          "status": "completed"
        },
        "tags": [],
        "colab": {
          "base_uri": "https://localhost:8080/"
        },
        "id": "09116055",
        "outputId": "e82dfd0c-403c-4eb8-d0ea-cba783d83569"
      },
      "outputs": [
        {
          "output_type": "execute_result",
          "data": {
            "text/plain": [
              "array([[0, 0, 0, ..., 0, 0, 0],\n",
              "       [0, 0, 0, ..., 0, 0, 0],\n",
              "       [0, 0, 0, ..., 0, 0, 0],\n",
              "       ...,\n",
              "       [0, 0, 0, ..., 0, 0, 0],\n",
              "       [0, 0, 0, ..., 0, 0, 0],\n",
              "       [0, 0, 0, ..., 0, 0, 0]])"
            ]
          },
          "metadata": {},
          "execution_count": 26
        }
      ],
      "source": [
        "cv = CountVectorizer(min_df=MIN_DF)\n",
        "cv_df = cv.fit_transform(df1['processed_text'])\n",
        "cv_df.toarray()"
      ]
    },
    {
      "cell_type": "code",
      "execution_count": 27,
      "id": "ff530319",
      "metadata": {
        "execution": {
          "iopub.execute_input": "2023-05-01T17:48:38.622060Z",
          "iopub.status.busy": "2023-05-01T17:48:38.621587Z",
          "iopub.status.idle": "2023-05-01T17:48:38.806888Z",
          "shell.execute_reply": "2023-05-01T17:48:38.805602Z"
        },
        "papermill": {
          "duration": 0.205631,
          "end_time": "2023-05-01T17:48:38.809861",
          "exception": false,
          "start_time": "2023-05-01T17:48:38.604230",
          "status": "completed"
        },
        "tags": [],
        "colab": {
          "base_uri": "https://localhost:8080/",
          "height": 173
        },
        "id": "ff530319",
        "outputId": "a9e624bc-adff-4044-acab-c6e8e83a6025"
      },
      "outputs": [
        {
          "output_type": "execute_result",
          "data": {
            "text/plain": [
              "   00  000  02  06  10  100  1000  100kg  100mg  100x  ...  zines  zinsser  \\\n",
              "0   0    0   0   0   0    0     0      0      0     0  ...      0        0   \n",
              "1   0    0   0   0   0    0     0      0      0     0  ...      0        0   \n",
              "2   0    0   0   0   0    0     0      0      0     0  ...      0        0   \n",
              "\n",
              "   zip  zofran  zoloft  zombie  zone  zoo  zuko  zumba  \n",
              "0    0       0       0       0     0    0     0      0  \n",
              "1    0       0       0       0     0    0     0      0  \n",
              "2    0       0       0       0     0    0     0      0  \n",
              "\n",
              "[3 rows x 10267 columns]"
            ],
            "text/html": [
              "\n",
              "  <div id=\"df-3cf28991-b485-4d98-b4f3-ab58497a4ce0\">\n",
              "    <div class=\"colab-df-container\">\n",
              "      <div>\n",
              "<style scoped>\n",
              "    .dataframe tbody tr th:only-of-type {\n",
              "        vertical-align: middle;\n",
              "    }\n",
              "\n",
              "    .dataframe tbody tr th {\n",
              "        vertical-align: top;\n",
              "    }\n",
              "\n",
              "    .dataframe thead th {\n",
              "        text-align: right;\n",
              "    }\n",
              "</style>\n",
              "<table border=\"1\" class=\"dataframe\">\n",
              "  <thead>\n",
              "    <tr style=\"text-align: right;\">\n",
              "      <th></th>\n",
              "      <th>00</th>\n",
              "      <th>000</th>\n",
              "      <th>02</th>\n",
              "      <th>06</th>\n",
              "      <th>10</th>\n",
              "      <th>100</th>\n",
              "      <th>1000</th>\n",
              "      <th>100kg</th>\n",
              "      <th>100mg</th>\n",
              "      <th>100x</th>\n",
              "      <th>...</th>\n",
              "      <th>zines</th>\n",
              "      <th>zinsser</th>\n",
              "      <th>zip</th>\n",
              "      <th>zofran</th>\n",
              "      <th>zoloft</th>\n",
              "      <th>zombie</th>\n",
              "      <th>zone</th>\n",
              "      <th>zoo</th>\n",
              "      <th>zuko</th>\n",
              "      <th>zumba</th>\n",
              "    </tr>\n",
              "  </thead>\n",
              "  <tbody>\n",
              "    <tr>\n",
              "      <th>0</th>\n",
              "      <td>0</td>\n",
              "      <td>0</td>\n",
              "      <td>0</td>\n",
              "      <td>0</td>\n",
              "      <td>0</td>\n",
              "      <td>0</td>\n",
              "      <td>0</td>\n",
              "      <td>0</td>\n",
              "      <td>0</td>\n",
              "      <td>0</td>\n",
              "      <td>...</td>\n",
              "      <td>0</td>\n",
              "      <td>0</td>\n",
              "      <td>0</td>\n",
              "      <td>0</td>\n",
              "      <td>0</td>\n",
              "      <td>0</td>\n",
              "      <td>0</td>\n",
              "      <td>0</td>\n",
              "      <td>0</td>\n",
              "      <td>0</td>\n",
              "    </tr>\n",
              "    <tr>\n",
              "      <th>1</th>\n",
              "      <td>0</td>\n",
              "      <td>0</td>\n",
              "      <td>0</td>\n",
              "      <td>0</td>\n",
              "      <td>0</td>\n",
              "      <td>0</td>\n",
              "      <td>0</td>\n",
              "      <td>0</td>\n",
              "      <td>0</td>\n",
              "      <td>0</td>\n",
              "      <td>...</td>\n",
              "      <td>0</td>\n",
              "      <td>0</td>\n",
              "      <td>0</td>\n",
              "      <td>0</td>\n",
              "      <td>0</td>\n",
              "      <td>0</td>\n",
              "      <td>0</td>\n",
              "      <td>0</td>\n",
              "      <td>0</td>\n",
              "      <td>0</td>\n",
              "    </tr>\n",
              "    <tr>\n",
              "      <th>2</th>\n",
              "      <td>0</td>\n",
              "      <td>0</td>\n",
              "      <td>0</td>\n",
              "      <td>0</td>\n",
              "      <td>0</td>\n",
              "      <td>0</td>\n",
              "      <td>0</td>\n",
              "      <td>0</td>\n",
              "      <td>0</td>\n",
              "      <td>0</td>\n",
              "      <td>...</td>\n",
              "      <td>0</td>\n",
              "      <td>0</td>\n",
              "      <td>0</td>\n",
              "      <td>0</td>\n",
              "      <td>0</td>\n",
              "      <td>0</td>\n",
              "      <td>0</td>\n",
              "      <td>0</td>\n",
              "      <td>0</td>\n",
              "      <td>0</td>\n",
              "    </tr>\n",
              "  </tbody>\n",
              "</table>\n",
              "<p>3 rows × 10267 columns</p>\n",
              "</div>\n",
              "      <button class=\"colab-df-convert\" onclick=\"convertToInteractive('df-3cf28991-b485-4d98-b4f3-ab58497a4ce0')\"\n",
              "              title=\"Convert this dataframe to an interactive table.\"\n",
              "              style=\"display:none;\">\n",
              "        \n",
              "  <svg xmlns=\"http://www.w3.org/2000/svg\" height=\"24px\"viewBox=\"0 0 24 24\"\n",
              "       width=\"24px\">\n",
              "    <path d=\"M0 0h24v24H0V0z\" fill=\"none\"/>\n",
              "    <path d=\"M18.56 5.44l.94 2.06.94-2.06 2.06-.94-2.06-.94-.94-2.06-.94 2.06-2.06.94zm-11 1L8.5 8.5l.94-2.06 2.06-.94-2.06-.94L8.5 2.5l-.94 2.06-2.06.94zm10 10l.94 2.06.94-2.06 2.06-.94-2.06-.94-.94-2.06-.94 2.06-2.06.94z\"/><path d=\"M17.41 7.96l-1.37-1.37c-.4-.4-.92-.59-1.43-.59-.52 0-1.04.2-1.43.59L10.3 9.45l-7.72 7.72c-.78.78-.78 2.05 0 2.83L4 21.41c.39.39.9.59 1.41.59.51 0 1.02-.2 1.41-.59l7.78-7.78 2.81-2.81c.8-.78.8-2.07 0-2.86zM5.41 20L4 18.59l7.72-7.72 1.47 1.35L5.41 20z\"/>\n",
              "  </svg>\n",
              "      </button>\n",
              "      \n",
              "  <style>\n",
              "    .colab-df-container {\n",
              "      display:flex;\n",
              "      flex-wrap:wrap;\n",
              "      gap: 12px;\n",
              "    }\n",
              "\n",
              "    .colab-df-convert {\n",
              "      background-color: #E8F0FE;\n",
              "      border: none;\n",
              "      border-radius: 50%;\n",
              "      cursor: pointer;\n",
              "      display: none;\n",
              "      fill: #1967D2;\n",
              "      height: 32px;\n",
              "      padding: 0 0 0 0;\n",
              "      width: 32px;\n",
              "    }\n",
              "\n",
              "    .colab-df-convert:hover {\n",
              "      background-color: #E2EBFA;\n",
              "      box-shadow: 0px 1px 2px rgba(60, 64, 67, 0.3), 0px 1px 3px 1px rgba(60, 64, 67, 0.15);\n",
              "      fill: #174EA6;\n",
              "    }\n",
              "\n",
              "    [theme=dark] .colab-df-convert {\n",
              "      background-color: #3B4455;\n",
              "      fill: #D2E3FC;\n",
              "    }\n",
              "\n",
              "    [theme=dark] .colab-df-convert:hover {\n",
              "      background-color: #434B5C;\n",
              "      box-shadow: 0px 1px 3px 1px rgba(0, 0, 0, 0.15);\n",
              "      filter: drop-shadow(0px 1px 2px rgba(0, 0, 0, 0.3));\n",
              "      fill: #FFFFFF;\n",
              "    }\n",
              "  </style>\n",
              "\n",
              "      <script>\n",
              "        const buttonEl =\n",
              "          document.querySelector('#df-3cf28991-b485-4d98-b4f3-ab58497a4ce0 button.colab-df-convert');\n",
              "        buttonEl.style.display =\n",
              "          google.colab.kernel.accessAllowed ? 'block' : 'none';\n",
              "\n",
              "        async function convertToInteractive(key) {\n",
              "          const element = document.querySelector('#df-3cf28991-b485-4d98-b4f3-ab58497a4ce0');\n",
              "          const dataTable =\n",
              "            await google.colab.kernel.invokeFunction('convertToInteractive',\n",
              "                                                     [key], {});\n",
              "          if (!dataTable) return;\n",
              "\n",
              "          const docLinkHtml = 'Like what you see? Visit the ' +\n",
              "            '<a target=\"_blank\" href=https://colab.research.google.com/notebooks/data_table.ipynb>data table notebook</a>'\n",
              "            + ' to learn more about interactive tables.';\n",
              "          element.innerHTML = '';\n",
              "          dataTable['output_type'] = 'display_data';\n",
              "          await google.colab.output.renderOutput(dataTable, element);\n",
              "          const docLink = document.createElement('div');\n",
              "          docLink.innerHTML = docLinkHtml;\n",
              "          element.appendChild(docLink);\n",
              "        }\n",
              "      </script>\n",
              "    </div>\n",
              "  </div>\n",
              "  "
            ]
          },
          "metadata": {},
          "execution_count": 27
        }
      ],
      "source": [
        "cv_df = pd.DataFrame(cv_df.toarray(),columns=cv.get_feature_names_out())\n",
        "cv_df.head(3)"
      ]
    },
    {
      "cell_type": "markdown",
      "id": "d5b816bb",
      "metadata": {
        "papermill": {
          "duration": 0.015873,
          "end_time": "2023-05-01T17:48:38.842261",
          "exception": false,
          "start_time": "2023-05-01T17:48:38.826388",
          "status": "completed"
        },
        "tags": [],
        "id": "d5b816bb"
      },
      "source": [
        "### --> TF-IDF (Term frequency - inverse document frequency)"
      ]
    },
    {
      "cell_type": "code",
      "execution_count": 28,
      "id": "0f1a056e",
      "metadata": {
        "execution": {
          "iopub.execute_input": "2023-05-01T17:48:38.876725Z",
          "iopub.status.busy": "2023-05-01T17:48:38.876268Z",
          "iopub.status.idle": "2023-05-01T17:48:38.881781Z",
          "shell.execute_reply": "2023-05-01T17:48:38.880501Z"
        },
        "papermill": {
          "duration": 0.025776,
          "end_time": "2023-05-01T17:48:38.884317",
          "exception": false,
          "start_time": "2023-05-01T17:48:38.858541",
          "status": "completed"
        },
        "tags": [],
        "id": "0f1a056e"
      },
      "outputs": [],
      "source": [
        "from sklearn.feature_extraction.text import TfidfVectorizer"
      ]
    },
    {
      "cell_type": "code",
      "execution_count": 29,
      "id": "b501d26c",
      "metadata": {
        "execution": {
          "iopub.execute_input": "2023-05-01T17:48:38.919792Z",
          "iopub.status.busy": "2023-05-01T17:48:38.919389Z",
          "iopub.status.idle": "2023-05-01T17:48:39.411347Z",
          "shell.execute_reply": "2023-05-01T17:48:39.409785Z"
        },
        "papermill": {
          "duration": 0.512695,
          "end_time": "2023-05-01T17:48:39.414395",
          "exception": false,
          "start_time": "2023-05-01T17:48:38.901700",
          "status": "completed"
        },
        "tags": [],
        "colab": {
          "base_uri": "https://localhost:8080/"
        },
        "id": "b501d26c",
        "outputId": "a4e435d9-4182-4bb5-e7a0-dfe60162fef8"
      },
      "outputs": [
        {
          "output_type": "execute_result",
          "data": {
            "text/plain": [
              "array([[0., 0., 0., ..., 0., 0., 0.],\n",
              "       [0., 0., 0., ..., 0., 0., 0.],\n",
              "       [0., 0., 0., ..., 0., 0., 0.],\n",
              "       ...,\n",
              "       [0., 0., 0., ..., 0., 0., 0.],\n",
              "       [0., 0., 0., ..., 0., 0., 0.],\n",
              "       [0., 0., 0., ..., 0., 0., 0.]])"
            ]
          },
          "metadata": {},
          "execution_count": 29
        }
      ],
      "source": [
        "tf = TfidfVectorizer(min_df=MIN_DF)\n",
        "tf_df = tf.fit_transform(df1['processed_text'])\n",
        "tf_df.toarray()"
      ]
    },
    {
      "cell_type": "code",
      "execution_count": 30,
      "id": "3f53c0a6",
      "metadata": {
        "execution": {
          "iopub.execute_input": "2023-05-01T17:48:39.450039Z",
          "iopub.status.busy": "2023-05-01T17:48:39.449605Z",
          "iopub.status.idle": "2023-05-01T17:48:39.798569Z",
          "shell.execute_reply": "2023-05-01T17:48:39.797284Z"
        },
        "papermill": {
          "duration": 0.370382,
          "end_time": "2023-05-01T17:48:39.801689",
          "exception": false,
          "start_time": "2023-05-01T17:48:39.431307",
          "status": "completed"
        },
        "tags": [],
        "colab": {
          "base_uri": "https://localhost:8080/",
          "height": 173
        },
        "id": "3f53c0a6",
        "outputId": "81c9a056-5851-4eee-935d-32a35106a1c0"
      },
      "outputs": [
        {
          "output_type": "execute_result",
          "data": {
            "text/plain": [
              "    00  000   02   06   10  100  1000  100kg  100mg  100x  ...  zines  \\\n",
              "0  0.0  0.0  0.0  0.0  0.0  0.0   0.0    0.0    0.0   0.0  ...    0.0   \n",
              "1  0.0  0.0  0.0  0.0  0.0  0.0   0.0    0.0    0.0   0.0  ...    0.0   \n",
              "2  0.0  0.0  0.0  0.0  0.0  0.0   0.0    0.0    0.0   0.0  ...    0.0   \n",
              "\n",
              "   zinsser  zip  zofran  zoloft  zombie  zone  zoo  zuko  zumba  \n",
              "0      0.0  0.0     0.0     0.0     0.0   0.0  0.0   0.0    0.0  \n",
              "1      0.0  0.0     0.0     0.0     0.0   0.0  0.0   0.0    0.0  \n",
              "2      0.0  0.0     0.0     0.0     0.0   0.0  0.0   0.0    0.0  \n",
              "\n",
              "[3 rows x 10267 columns]"
            ],
            "text/html": [
              "\n",
              "  <div id=\"df-3c24e581-19be-4880-a6e8-2f4d5a38b266\">\n",
              "    <div class=\"colab-df-container\">\n",
              "      <div>\n",
              "<style scoped>\n",
              "    .dataframe tbody tr th:only-of-type {\n",
              "        vertical-align: middle;\n",
              "    }\n",
              "\n",
              "    .dataframe tbody tr th {\n",
              "        vertical-align: top;\n",
              "    }\n",
              "\n",
              "    .dataframe thead th {\n",
              "        text-align: right;\n",
              "    }\n",
              "</style>\n",
              "<table border=\"1\" class=\"dataframe\">\n",
              "  <thead>\n",
              "    <tr style=\"text-align: right;\">\n",
              "      <th></th>\n",
              "      <th>00</th>\n",
              "      <th>000</th>\n",
              "      <th>02</th>\n",
              "      <th>06</th>\n",
              "      <th>10</th>\n",
              "      <th>100</th>\n",
              "      <th>1000</th>\n",
              "      <th>100kg</th>\n",
              "      <th>100mg</th>\n",
              "      <th>100x</th>\n",
              "      <th>...</th>\n",
              "      <th>zines</th>\n",
              "      <th>zinsser</th>\n",
              "      <th>zip</th>\n",
              "      <th>zofran</th>\n",
              "      <th>zoloft</th>\n",
              "      <th>zombie</th>\n",
              "      <th>zone</th>\n",
              "      <th>zoo</th>\n",
              "      <th>zuko</th>\n",
              "      <th>zumba</th>\n",
              "    </tr>\n",
              "  </thead>\n",
              "  <tbody>\n",
              "    <tr>\n",
              "      <th>0</th>\n",
              "      <td>0.0</td>\n",
              "      <td>0.0</td>\n",
              "      <td>0.0</td>\n",
              "      <td>0.0</td>\n",
              "      <td>0.0</td>\n",
              "      <td>0.0</td>\n",
              "      <td>0.0</td>\n",
              "      <td>0.0</td>\n",
              "      <td>0.0</td>\n",
              "      <td>0.0</td>\n",
              "      <td>...</td>\n",
              "      <td>0.0</td>\n",
              "      <td>0.0</td>\n",
              "      <td>0.0</td>\n",
              "      <td>0.0</td>\n",
              "      <td>0.0</td>\n",
              "      <td>0.0</td>\n",
              "      <td>0.0</td>\n",
              "      <td>0.0</td>\n",
              "      <td>0.0</td>\n",
              "      <td>0.0</td>\n",
              "    </tr>\n",
              "    <tr>\n",
              "      <th>1</th>\n",
              "      <td>0.0</td>\n",
              "      <td>0.0</td>\n",
              "      <td>0.0</td>\n",
              "      <td>0.0</td>\n",
              "      <td>0.0</td>\n",
              "      <td>0.0</td>\n",
              "      <td>0.0</td>\n",
              "      <td>0.0</td>\n",
              "      <td>0.0</td>\n",
              "      <td>0.0</td>\n",
              "      <td>...</td>\n",
              "      <td>0.0</td>\n",
              "      <td>0.0</td>\n",
              "      <td>0.0</td>\n",
              "      <td>0.0</td>\n",
              "      <td>0.0</td>\n",
              "      <td>0.0</td>\n",
              "      <td>0.0</td>\n",
              "      <td>0.0</td>\n",
              "      <td>0.0</td>\n",
              "      <td>0.0</td>\n",
              "    </tr>\n",
              "    <tr>\n",
              "      <th>2</th>\n",
              "      <td>0.0</td>\n",
              "      <td>0.0</td>\n",
              "      <td>0.0</td>\n",
              "      <td>0.0</td>\n",
              "      <td>0.0</td>\n",
              "      <td>0.0</td>\n",
              "      <td>0.0</td>\n",
              "      <td>0.0</td>\n",
              "      <td>0.0</td>\n",
              "      <td>0.0</td>\n",
              "      <td>...</td>\n",
              "      <td>0.0</td>\n",
              "      <td>0.0</td>\n",
              "      <td>0.0</td>\n",
              "      <td>0.0</td>\n",
              "      <td>0.0</td>\n",
              "      <td>0.0</td>\n",
              "      <td>0.0</td>\n",
              "      <td>0.0</td>\n",
              "      <td>0.0</td>\n",
              "      <td>0.0</td>\n",
              "    </tr>\n",
              "  </tbody>\n",
              "</table>\n",
              "<p>3 rows × 10267 columns</p>\n",
              "</div>\n",
              "      <button class=\"colab-df-convert\" onclick=\"convertToInteractive('df-3c24e581-19be-4880-a6e8-2f4d5a38b266')\"\n",
              "              title=\"Convert this dataframe to an interactive table.\"\n",
              "              style=\"display:none;\">\n",
              "        \n",
              "  <svg xmlns=\"http://www.w3.org/2000/svg\" height=\"24px\"viewBox=\"0 0 24 24\"\n",
              "       width=\"24px\">\n",
              "    <path d=\"M0 0h24v24H0V0z\" fill=\"none\"/>\n",
              "    <path d=\"M18.56 5.44l.94 2.06.94-2.06 2.06-.94-2.06-.94-.94-2.06-.94 2.06-2.06.94zm-11 1L8.5 8.5l.94-2.06 2.06-.94-2.06-.94L8.5 2.5l-.94 2.06-2.06.94zm10 10l.94 2.06.94-2.06 2.06-.94-2.06-.94-.94-2.06-.94 2.06-2.06.94z\"/><path d=\"M17.41 7.96l-1.37-1.37c-.4-.4-.92-.59-1.43-.59-.52 0-1.04.2-1.43.59L10.3 9.45l-7.72 7.72c-.78.78-.78 2.05 0 2.83L4 21.41c.39.39.9.59 1.41.59.51 0 1.02-.2 1.41-.59l7.78-7.78 2.81-2.81c.8-.78.8-2.07 0-2.86zM5.41 20L4 18.59l7.72-7.72 1.47 1.35L5.41 20z\"/>\n",
              "  </svg>\n",
              "      </button>\n",
              "      \n",
              "  <style>\n",
              "    .colab-df-container {\n",
              "      display:flex;\n",
              "      flex-wrap:wrap;\n",
              "      gap: 12px;\n",
              "    }\n",
              "\n",
              "    .colab-df-convert {\n",
              "      background-color: #E8F0FE;\n",
              "      border: none;\n",
              "      border-radius: 50%;\n",
              "      cursor: pointer;\n",
              "      display: none;\n",
              "      fill: #1967D2;\n",
              "      height: 32px;\n",
              "      padding: 0 0 0 0;\n",
              "      width: 32px;\n",
              "    }\n",
              "\n",
              "    .colab-df-convert:hover {\n",
              "      background-color: #E2EBFA;\n",
              "      box-shadow: 0px 1px 2px rgba(60, 64, 67, 0.3), 0px 1px 3px 1px rgba(60, 64, 67, 0.15);\n",
              "      fill: #174EA6;\n",
              "    }\n",
              "\n",
              "    [theme=dark] .colab-df-convert {\n",
              "      background-color: #3B4455;\n",
              "      fill: #D2E3FC;\n",
              "    }\n",
              "\n",
              "    [theme=dark] .colab-df-convert:hover {\n",
              "      background-color: #434B5C;\n",
              "      box-shadow: 0px 1px 3px 1px rgba(0, 0, 0, 0.15);\n",
              "      filter: drop-shadow(0px 1px 2px rgba(0, 0, 0, 0.3));\n",
              "      fill: #FFFFFF;\n",
              "    }\n",
              "  </style>\n",
              "\n",
              "      <script>\n",
              "        const buttonEl =\n",
              "          document.querySelector('#df-3c24e581-19be-4880-a6e8-2f4d5a38b266 button.colab-df-convert');\n",
              "        buttonEl.style.display =\n",
              "          google.colab.kernel.accessAllowed ? 'block' : 'none';\n",
              "\n",
              "        async function convertToInteractive(key) {\n",
              "          const element = document.querySelector('#df-3c24e581-19be-4880-a6e8-2f4d5a38b266');\n",
              "          const dataTable =\n",
              "            await google.colab.kernel.invokeFunction('convertToInteractive',\n",
              "                                                     [key], {});\n",
              "          if (!dataTable) return;\n",
              "\n",
              "          const docLinkHtml = 'Like what you see? Visit the ' +\n",
              "            '<a target=\"_blank\" href=https://colab.research.google.com/notebooks/data_table.ipynb>data table notebook</a>'\n",
              "            + ' to learn more about interactive tables.';\n",
              "          element.innerHTML = '';\n",
              "          dataTable['output_type'] = 'display_data';\n",
              "          await google.colab.output.renderOutput(dataTable, element);\n",
              "          const docLink = document.createElement('div');\n",
              "          docLink.innerHTML = docLinkHtml;\n",
              "          element.appendChild(docLink);\n",
              "        }\n",
              "      </script>\n",
              "    </div>\n",
              "  </div>\n",
              "  "
            ]
          },
          "metadata": {},
          "execution_count": 30
        }
      ],
      "source": [
        "tf_df = pd.DataFrame(tf_df.toarray(),columns=tf.get_feature_names_out())\n",
        "tf_df.head(3)"
      ]
    },
    {
      "cell_type": "code",
      "execution_count": 31,
      "id": "9ac5b215",
      "metadata": {
        "execution": {
          "iopub.execute_input": "2023-05-01T17:48:39.837572Z",
          "iopub.status.busy": "2023-05-01T17:48:39.837171Z",
          "iopub.status.idle": "2023-05-01T17:49:02.916701Z",
          "shell.execute_reply": "2023-05-01T17:49:02.915242Z"
        },
        "papermill": {
          "duration": 23.100549,
          "end_time": "2023-05-01T17:49:02.919653",
          "exception": false,
          "start_time": "2023-05-01T17:48:39.819104",
          "status": "completed"
        },
        "tags": [],
        "colab": {
          "base_uri": "https://localhost:8080/",
          "height": 393
        },
        "id": "9ac5b215",
        "outputId": "85163a13-9334-48ce-cf86-68b7ffdbcb61"
      },
      "outputs": [
        {
          "output_type": "execute_result",
          "data": {
            "text/plain": [
              "                00          000           02           06           10  \\\n",
              "count  2838.000000  2838.000000  2838.000000  2838.000000  2838.000000   \n",
              "mean      0.000162     0.000548     0.000109     0.000069     0.003244   \n",
              "std       0.006128     0.009998     0.005801     0.003671     0.020994   \n",
              "min       0.000000     0.000000     0.000000     0.000000     0.000000   \n",
              "25%       0.000000     0.000000     0.000000     0.000000     0.000000   \n",
              "50%       0.000000     0.000000     0.000000     0.000000     0.000000   \n",
              "75%       0.000000     0.000000     0.000000     0.000000     0.000000   \n",
              "max       0.252083     0.327600     0.309059     0.195549     0.260810   \n",
              "\n",
              "               100         1000        100kg        100mg         100x  ...  \\\n",
              "count  2838.000000  2838.000000  2838.000000  2838.000000  2838.000000  ...   \n",
              "mean      0.001784     0.000576     0.000106     0.000115     0.000067  ...   \n",
              "std       0.017215     0.011156     0.005624     0.004534     0.003573  ...   \n",
              "min       0.000000     0.000000     0.000000     0.000000     0.000000  ...   \n",
              "25%       0.000000     0.000000     0.000000     0.000000     0.000000  ...   \n",
              "50%       0.000000     0.000000     0.000000     0.000000     0.000000  ...   \n",
              "75%       0.000000     0.000000     0.000000     0.000000     0.000000  ...   \n",
              "max       0.267280     0.310333     0.299611     0.215015     0.190366  ...   \n",
              "\n",
              "             zines      zinsser          zip       zofran       zoloft  \\\n",
              "count  2838.000000  2838.000000  2838.000000  2838.000000  2838.000000   \n",
              "mean      0.000078     0.000072     0.000204     0.000078     0.000715   \n",
              "std       0.004144     0.003841     0.007786     0.004157     0.011797   \n",
              "min       0.000000     0.000000     0.000000     0.000000     0.000000   \n",
              "25%       0.000000     0.000000     0.000000     0.000000     0.000000   \n",
              "50%       0.000000     0.000000     0.000000     0.000000     0.000000   \n",
              "75%       0.000000     0.000000     0.000000     0.000000     0.000000   \n",
              "max       0.220738     0.204637     0.336073     0.221471     0.306537   \n",
              "\n",
              "            zombie         zone          zoo         zuko        zumba  \n",
              "count  2838.000000  2838.000000  2838.000000  2838.000000  2838.000000  \n",
              "mean      0.000126     0.000245     0.000089     0.000054     0.000040  \n",
              "std       0.004733     0.006851     0.004754     0.002873     0.002105  \n",
              "min       0.000000     0.000000     0.000000     0.000000     0.000000  \n",
              "25%       0.000000     0.000000     0.000000     0.000000     0.000000  \n",
              "50%       0.000000     0.000000     0.000000     0.000000     0.000000  \n",
              "75%       0.000000     0.000000     0.000000     0.000000     0.000000  \n",
              "max       0.183347     0.268149     0.253283     0.153067     0.112129  \n",
              "\n",
              "[8 rows x 10267 columns]"
            ],
            "text/html": [
              "\n",
              "  <div id=\"df-68426edd-58c7-430b-9cdc-2fa0a1d48cab\">\n",
              "    <div class=\"colab-df-container\">\n",
              "      <div>\n",
              "<style scoped>\n",
              "    .dataframe tbody tr th:only-of-type {\n",
              "        vertical-align: middle;\n",
              "    }\n",
              "\n",
              "    .dataframe tbody tr th {\n",
              "        vertical-align: top;\n",
              "    }\n",
              "\n",
              "    .dataframe thead th {\n",
              "        text-align: right;\n",
              "    }\n",
              "</style>\n",
              "<table border=\"1\" class=\"dataframe\">\n",
              "  <thead>\n",
              "    <tr style=\"text-align: right;\">\n",
              "      <th></th>\n",
              "      <th>00</th>\n",
              "      <th>000</th>\n",
              "      <th>02</th>\n",
              "      <th>06</th>\n",
              "      <th>10</th>\n",
              "      <th>100</th>\n",
              "      <th>1000</th>\n",
              "      <th>100kg</th>\n",
              "      <th>100mg</th>\n",
              "      <th>100x</th>\n",
              "      <th>...</th>\n",
              "      <th>zines</th>\n",
              "      <th>zinsser</th>\n",
              "      <th>zip</th>\n",
              "      <th>zofran</th>\n",
              "      <th>zoloft</th>\n",
              "      <th>zombie</th>\n",
              "      <th>zone</th>\n",
              "      <th>zoo</th>\n",
              "      <th>zuko</th>\n",
              "      <th>zumba</th>\n",
              "    </tr>\n",
              "  </thead>\n",
              "  <tbody>\n",
              "    <tr>\n",
              "      <th>count</th>\n",
              "      <td>2838.000000</td>\n",
              "      <td>2838.000000</td>\n",
              "      <td>2838.000000</td>\n",
              "      <td>2838.000000</td>\n",
              "      <td>2838.000000</td>\n",
              "      <td>2838.000000</td>\n",
              "      <td>2838.000000</td>\n",
              "      <td>2838.000000</td>\n",
              "      <td>2838.000000</td>\n",
              "      <td>2838.000000</td>\n",
              "      <td>...</td>\n",
              "      <td>2838.000000</td>\n",
              "      <td>2838.000000</td>\n",
              "      <td>2838.000000</td>\n",
              "      <td>2838.000000</td>\n",
              "      <td>2838.000000</td>\n",
              "      <td>2838.000000</td>\n",
              "      <td>2838.000000</td>\n",
              "      <td>2838.000000</td>\n",
              "      <td>2838.000000</td>\n",
              "      <td>2838.000000</td>\n",
              "    </tr>\n",
              "    <tr>\n",
              "      <th>mean</th>\n",
              "      <td>0.000162</td>\n",
              "      <td>0.000548</td>\n",
              "      <td>0.000109</td>\n",
              "      <td>0.000069</td>\n",
              "      <td>0.003244</td>\n",
              "      <td>0.001784</td>\n",
              "      <td>0.000576</td>\n",
              "      <td>0.000106</td>\n",
              "      <td>0.000115</td>\n",
              "      <td>0.000067</td>\n",
              "      <td>...</td>\n",
              "      <td>0.000078</td>\n",
              "      <td>0.000072</td>\n",
              "      <td>0.000204</td>\n",
              "      <td>0.000078</td>\n",
              "      <td>0.000715</td>\n",
              "      <td>0.000126</td>\n",
              "      <td>0.000245</td>\n",
              "      <td>0.000089</td>\n",
              "      <td>0.000054</td>\n",
              "      <td>0.000040</td>\n",
              "    </tr>\n",
              "    <tr>\n",
              "      <th>std</th>\n",
              "      <td>0.006128</td>\n",
              "      <td>0.009998</td>\n",
              "      <td>0.005801</td>\n",
              "      <td>0.003671</td>\n",
              "      <td>0.020994</td>\n",
              "      <td>0.017215</td>\n",
              "      <td>0.011156</td>\n",
              "      <td>0.005624</td>\n",
              "      <td>0.004534</td>\n",
              "      <td>0.003573</td>\n",
              "      <td>...</td>\n",
              "      <td>0.004144</td>\n",
              "      <td>0.003841</td>\n",
              "      <td>0.007786</td>\n",
              "      <td>0.004157</td>\n",
              "      <td>0.011797</td>\n",
              "      <td>0.004733</td>\n",
              "      <td>0.006851</td>\n",
              "      <td>0.004754</td>\n",
              "      <td>0.002873</td>\n",
              "      <td>0.002105</td>\n",
              "    </tr>\n",
              "    <tr>\n",
              "      <th>min</th>\n",
              "      <td>0.000000</td>\n",
              "      <td>0.000000</td>\n",
              "      <td>0.000000</td>\n",
              "      <td>0.000000</td>\n",
              "      <td>0.000000</td>\n",
              "      <td>0.000000</td>\n",
              "      <td>0.000000</td>\n",
              "      <td>0.000000</td>\n",
              "      <td>0.000000</td>\n",
              "      <td>0.000000</td>\n",
              "      <td>...</td>\n",
              "      <td>0.000000</td>\n",
              "      <td>0.000000</td>\n",
              "      <td>0.000000</td>\n",
              "      <td>0.000000</td>\n",
              "      <td>0.000000</td>\n",
              "      <td>0.000000</td>\n",
              "      <td>0.000000</td>\n",
              "      <td>0.000000</td>\n",
              "      <td>0.000000</td>\n",
              "      <td>0.000000</td>\n",
              "    </tr>\n",
              "    <tr>\n",
              "      <th>25%</th>\n",
              "      <td>0.000000</td>\n",
              "      <td>0.000000</td>\n",
              "      <td>0.000000</td>\n",
              "      <td>0.000000</td>\n",
              "      <td>0.000000</td>\n",
              "      <td>0.000000</td>\n",
              "      <td>0.000000</td>\n",
              "      <td>0.000000</td>\n",
              "      <td>0.000000</td>\n",
              "      <td>0.000000</td>\n",
              "      <td>...</td>\n",
              "      <td>0.000000</td>\n",
              "      <td>0.000000</td>\n",
              "      <td>0.000000</td>\n",
              "      <td>0.000000</td>\n",
              "      <td>0.000000</td>\n",
              "      <td>0.000000</td>\n",
              "      <td>0.000000</td>\n",
              "      <td>0.000000</td>\n",
              "      <td>0.000000</td>\n",
              "      <td>0.000000</td>\n",
              "    </tr>\n",
              "    <tr>\n",
              "      <th>50%</th>\n",
              "      <td>0.000000</td>\n",
              "      <td>0.000000</td>\n",
              "      <td>0.000000</td>\n",
              "      <td>0.000000</td>\n",
              "      <td>0.000000</td>\n",
              "      <td>0.000000</td>\n",
              "      <td>0.000000</td>\n",
              "      <td>0.000000</td>\n",
              "      <td>0.000000</td>\n",
              "      <td>0.000000</td>\n",
              "      <td>...</td>\n",
              "      <td>0.000000</td>\n",
              "      <td>0.000000</td>\n",
              "      <td>0.000000</td>\n",
              "      <td>0.000000</td>\n",
              "      <td>0.000000</td>\n",
              "      <td>0.000000</td>\n",
              "      <td>0.000000</td>\n",
              "      <td>0.000000</td>\n",
              "      <td>0.000000</td>\n",
              "      <td>0.000000</td>\n",
              "    </tr>\n",
              "    <tr>\n",
              "      <th>75%</th>\n",
              "      <td>0.000000</td>\n",
              "      <td>0.000000</td>\n",
              "      <td>0.000000</td>\n",
              "      <td>0.000000</td>\n",
              "      <td>0.000000</td>\n",
              "      <td>0.000000</td>\n",
              "      <td>0.000000</td>\n",
              "      <td>0.000000</td>\n",
              "      <td>0.000000</td>\n",
              "      <td>0.000000</td>\n",
              "      <td>...</td>\n",
              "      <td>0.000000</td>\n",
              "      <td>0.000000</td>\n",
              "      <td>0.000000</td>\n",
              "      <td>0.000000</td>\n",
              "      <td>0.000000</td>\n",
              "      <td>0.000000</td>\n",
              "      <td>0.000000</td>\n",
              "      <td>0.000000</td>\n",
              "      <td>0.000000</td>\n",
              "      <td>0.000000</td>\n",
              "    </tr>\n",
              "    <tr>\n",
              "      <th>max</th>\n",
              "      <td>0.252083</td>\n",
              "      <td>0.327600</td>\n",
              "      <td>0.309059</td>\n",
              "      <td>0.195549</td>\n",
              "      <td>0.260810</td>\n",
              "      <td>0.267280</td>\n",
              "      <td>0.310333</td>\n",
              "      <td>0.299611</td>\n",
              "      <td>0.215015</td>\n",
              "      <td>0.190366</td>\n",
              "      <td>...</td>\n",
              "      <td>0.220738</td>\n",
              "      <td>0.204637</td>\n",
              "      <td>0.336073</td>\n",
              "      <td>0.221471</td>\n",
              "      <td>0.306537</td>\n",
              "      <td>0.183347</td>\n",
              "      <td>0.268149</td>\n",
              "      <td>0.253283</td>\n",
              "      <td>0.153067</td>\n",
              "      <td>0.112129</td>\n",
              "    </tr>\n",
              "  </tbody>\n",
              "</table>\n",
              "<p>8 rows × 10267 columns</p>\n",
              "</div>\n",
              "      <button class=\"colab-df-convert\" onclick=\"convertToInteractive('df-68426edd-58c7-430b-9cdc-2fa0a1d48cab')\"\n",
              "              title=\"Convert this dataframe to an interactive table.\"\n",
              "              style=\"display:none;\">\n",
              "        \n",
              "  <svg xmlns=\"http://www.w3.org/2000/svg\" height=\"24px\"viewBox=\"0 0 24 24\"\n",
              "       width=\"24px\">\n",
              "    <path d=\"M0 0h24v24H0V0z\" fill=\"none\"/>\n",
              "    <path d=\"M18.56 5.44l.94 2.06.94-2.06 2.06-.94-2.06-.94-.94-2.06-.94 2.06-2.06.94zm-11 1L8.5 8.5l.94-2.06 2.06-.94-2.06-.94L8.5 2.5l-.94 2.06-2.06.94zm10 10l.94 2.06.94-2.06 2.06-.94-2.06-.94-.94-2.06-.94 2.06-2.06.94z\"/><path d=\"M17.41 7.96l-1.37-1.37c-.4-.4-.92-.59-1.43-.59-.52 0-1.04.2-1.43.59L10.3 9.45l-7.72 7.72c-.78.78-.78 2.05 0 2.83L4 21.41c.39.39.9.59 1.41.59.51 0 1.02-.2 1.41-.59l7.78-7.78 2.81-2.81c.8-.78.8-2.07 0-2.86zM5.41 20L4 18.59l7.72-7.72 1.47 1.35L5.41 20z\"/>\n",
              "  </svg>\n",
              "      </button>\n",
              "      \n",
              "  <style>\n",
              "    .colab-df-container {\n",
              "      display:flex;\n",
              "      flex-wrap:wrap;\n",
              "      gap: 12px;\n",
              "    }\n",
              "\n",
              "    .colab-df-convert {\n",
              "      background-color: #E8F0FE;\n",
              "      border: none;\n",
              "      border-radius: 50%;\n",
              "      cursor: pointer;\n",
              "      display: none;\n",
              "      fill: #1967D2;\n",
              "      height: 32px;\n",
              "      padding: 0 0 0 0;\n",
              "      width: 32px;\n",
              "    }\n",
              "\n",
              "    .colab-df-convert:hover {\n",
              "      background-color: #E2EBFA;\n",
              "      box-shadow: 0px 1px 2px rgba(60, 64, 67, 0.3), 0px 1px 3px 1px rgba(60, 64, 67, 0.15);\n",
              "      fill: #174EA6;\n",
              "    }\n",
              "\n",
              "    [theme=dark] .colab-df-convert {\n",
              "      background-color: #3B4455;\n",
              "      fill: #D2E3FC;\n",
              "    }\n",
              "\n",
              "    [theme=dark] .colab-df-convert:hover {\n",
              "      background-color: #434B5C;\n",
              "      box-shadow: 0px 1px 3px 1px rgba(0, 0, 0, 0.15);\n",
              "      filter: drop-shadow(0px 1px 2px rgba(0, 0, 0, 0.3));\n",
              "      fill: #FFFFFF;\n",
              "    }\n",
              "  </style>\n",
              "\n",
              "      <script>\n",
              "        const buttonEl =\n",
              "          document.querySelector('#df-68426edd-58c7-430b-9cdc-2fa0a1d48cab button.colab-df-convert');\n",
              "        buttonEl.style.display =\n",
              "          google.colab.kernel.accessAllowed ? 'block' : 'none';\n",
              "\n",
              "        async function convertToInteractive(key) {\n",
              "          const element = document.querySelector('#df-68426edd-58c7-430b-9cdc-2fa0a1d48cab');\n",
              "          const dataTable =\n",
              "            await google.colab.kernel.invokeFunction('convertToInteractive',\n",
              "                                                     [key], {});\n",
              "          if (!dataTable) return;\n",
              "\n",
              "          const docLinkHtml = 'Like what you see? Visit the ' +\n",
              "            '<a target=\"_blank\" href=https://colab.research.google.com/notebooks/data_table.ipynb>data table notebook</a>'\n",
              "            + ' to learn more about interactive tables.';\n",
              "          element.innerHTML = '';\n",
              "          dataTable['output_type'] = 'display_data';\n",
              "          await google.colab.output.renderOutput(dataTable, element);\n",
              "          const docLink = document.createElement('div');\n",
              "          docLink.innerHTML = docLinkHtml;\n",
              "          element.appendChild(docLink);\n",
              "        }\n",
              "      </script>\n",
              "    </div>\n",
              "  </div>\n",
              "  "
            ]
          },
          "metadata": {},
          "execution_count": 31
        }
      ],
      "source": [
        "tf_df.describe()"
      ]
    },
    {
      "cell_type": "code",
      "execution_count": 32,
      "id": "8290570f",
      "metadata": {
        "execution": {
          "iopub.execute_input": "2023-05-01T17:49:02.955701Z",
          "iopub.status.busy": "2023-05-01T17:49:02.955281Z",
          "iopub.status.idle": "2023-05-01T17:49:02.963553Z",
          "shell.execute_reply": "2023-05-01T17:49:02.962314Z"
        },
        "papermill": {
          "duration": 0.029183,
          "end_time": "2023-05-01T17:49:02.965995",
          "exception": false,
          "start_time": "2023-05-01T17:49:02.936812",
          "status": "completed"
        },
        "tags": [],
        "colab": {
          "base_uri": "https://localhost:8080/"
        },
        "id": "8290570f",
        "outputId": "20750fa5-183b-4d8a-b1e1-65d342a6c613"
      },
      "outputs": [
        {
          "output_type": "execute_result",
          "data": {
            "text/plain": [
              "((2838, 10267), (2838, 10267))"
            ]
          },
          "metadata": {},
          "execution_count": 32
        }
      ],
      "source": [
        "cv_df.shape,tf_df.shape"
      ]
    },
    {
      "cell_type": "markdown",
      "id": "a164e0a3",
      "metadata": {
        "papermill": {
          "duration": 0.016793,
          "end_time": "2023-05-01T17:49:02.999894",
          "exception": false,
          "start_time": "2023-05-01T17:49:02.983101",
          "status": "completed"
        },
        "tags": [],
        "id": "a164e0a3"
      },
      "source": [
        "## Model Building\n",
        "* with BOW (Logistic Regression, MultonomialNB, RandomForestClassifier)\n",
        "* with TF-IDF (Logistic Regression, MultonomialNB, RandomForestClassifier)\n"
      ]
    },
    {
      "cell_type": "code",
      "execution_count": 33,
      "id": "acaac3e1",
      "metadata": {
        "execution": {
          "iopub.execute_input": "2023-05-01T17:49:03.037318Z",
          "iopub.status.busy": "2023-05-01T17:49:03.036880Z",
          "iopub.status.idle": "2023-05-01T17:49:03.333535Z",
          "shell.execute_reply": "2023-05-01T17:49:03.332247Z"
        },
        "papermill": {
          "duration": 0.319175,
          "end_time": "2023-05-01T17:49:03.336654",
          "exception": false,
          "start_time": "2023-05-01T17:49:03.017479",
          "status": "completed"
        },
        "tags": [],
        "id": "acaac3e1"
      },
      "outputs": [],
      "source": [
        "from sklearn.model_selection import train_test_split\n",
        "from sklearn.linear_model import LogisticRegression\n",
        "from sklearn.naive_bayes import MultinomialNB\n",
        "from sklearn.ensemble import RandomForestClassifier\n",
        "import warnings\n",
        "warnings.filterwarnings('ignore')"
      ]
    },
    {
      "cell_type": "markdown",
      "id": "b6f1a2bd",
      "metadata": {
        "papermill": {
          "duration": 0.016679,
          "end_time": "2023-05-01T17:49:03.370441",
          "exception": false,
          "start_time": "2023-05-01T17:49:03.353762",
          "status": "completed"
        },
        "tags": [],
        "id": "b6f1a2bd"
      },
      "source": [
        "###  --> For BOW"
      ]
    },
    {
      "cell_type": "code",
      "execution_count": 34,
      "id": "ffe6486c",
      "metadata": {
        "execution": {
          "iopub.execute_input": "2023-05-01T17:49:03.406889Z",
          "iopub.status.busy": "2023-05-01T17:49:03.406139Z",
          "iopub.status.idle": "2023-05-01T17:49:03.509330Z",
          "shell.execute_reply": "2023-05-01T17:49:03.507978Z"
        },
        "papermill": {
          "duration": 0.124719,
          "end_time": "2023-05-01T17:49:03.512144",
          "exception": false,
          "start_time": "2023-05-01T17:49:03.387425",
          "status": "completed"
        },
        "tags": [],
        "colab": {
          "base_uri": "https://localhost:8080/"
        },
        "id": "ffe6486c",
        "outputId": "272af872-b634-4da8-b1c3-839d87e71ea2"
      },
      "outputs": [
        {
          "output_type": "execute_result",
          "data": {
            "text/plain": [
              "((2128, 10267), (710,))"
            ]
          },
          "metadata": {},
          "execution_count": 34
        }
      ],
      "source": [
        "X_train,X_test,y_train,y_test = train_test_split(cv_df,df1['label'],stratify=df1['label'])\n",
        "X_train.shape,y_test.shape"
      ]
    },
    {
      "cell_type": "markdown",
      "id": "741770f7",
      "metadata": {
        "papermill": {
          "duration": 0.017013,
          "end_time": "2023-05-01T17:49:03.546352",
          "exception": false,
          "start_time": "2023-05-01T17:49:03.529339",
          "status": "completed"
        },
        "tags": [],
        "id": "741770f7"
      },
      "source": [
        "#### --------> Logistic Regression"
      ]
    },
    {
      "cell_type": "code",
      "execution_count": 35,
      "id": "2c94a6e9",
      "metadata": {
        "execution": {
          "iopub.execute_input": "2023-05-01T17:49:03.584190Z",
          "iopub.status.busy": "2023-05-01T17:49:03.582751Z",
          "iopub.status.idle": "2023-05-01T17:49:05.908359Z",
          "shell.execute_reply": "2023-05-01T17:49:05.907089Z"
        },
        "papermill": {
          "duration": 2.348768,
          "end_time": "2023-05-01T17:49:05.912881",
          "exception": false,
          "start_time": "2023-05-01T17:49:03.564113",
          "status": "completed"
        },
        "tags": [],
        "colab": {
          "base_uri": "https://localhost:8080/"
        },
        "id": "2c94a6e9",
        "outputId": "d5ef1ccb-c06a-42d3-e5b9-0a925721db21"
      },
      "outputs": [
        {
          "output_type": "execute_result",
          "data": {
            "text/plain": [
              "(0.9981203007518797, 0.7380281690140845)"
            ]
          },
          "metadata": {},
          "execution_count": 35
        }
      ],
      "source": [
        "model_lr = LogisticRegression().fit(X_train,y_train)\n",
        "model_lr.score(X_train,y_train),model_lr.score(X_test,y_test)"
      ]
    },
    {
      "cell_type": "markdown",
      "id": "e1d821c6",
      "metadata": {
        "papermill": {
          "duration": 0.044637,
          "end_time": "2023-05-01T17:49:06.002762",
          "exception": false,
          "start_time": "2023-05-01T17:49:05.958125",
          "status": "completed"
        },
        "tags": [],
        "id": "e1d821c6"
      },
      "source": [
        "#### --------> Naive Bayes"
      ]
    },
    {
      "cell_type": "code",
      "execution_count": 36,
      "id": "09e8e413",
      "metadata": {
        "execution": {
          "iopub.execute_input": "2023-05-01T17:49:06.052154Z",
          "iopub.status.busy": "2023-05-01T17:49:06.051308Z",
          "iopub.status.idle": "2023-05-01T17:49:06.731799Z",
          "shell.execute_reply": "2023-05-01T17:49:06.729982Z"
        },
        "papermill": {
          "duration": 0.704585,
          "end_time": "2023-05-01T17:49:06.736871",
          "exception": false,
          "start_time": "2023-05-01T17:49:06.032286",
          "status": "completed"
        },
        "tags": [],
        "colab": {
          "base_uri": "https://localhost:8080/"
        },
        "id": "09e8e413",
        "outputId": "b7cfe957-9fb4-4758-b35d-cbecc98ff55a"
      },
      "outputs": [
        {
          "output_type": "execute_result",
          "data": {
            "text/plain": [
              "(0.9205827067669173, 0.7309859154929578)"
            ]
          },
          "metadata": {},
          "execution_count": 36
        }
      ],
      "source": [
        "model_nb = MultinomialNB().fit(X_train,y_train)\n",
        "model_nb.score(X_train,y_train),model_nb.score(X_test,y_test)"
      ]
    },
    {
      "cell_type": "markdown",
      "id": "70c28446",
      "metadata": {
        "papermill": {
          "duration": 0.045177,
          "end_time": "2023-05-01T17:49:06.828788",
          "exception": false,
          "start_time": "2023-05-01T17:49:06.783611",
          "status": "completed"
        },
        "tags": [],
        "id": "70c28446"
      },
      "source": [
        "#### --------> Random Forest "
      ]
    },
    {
      "cell_type": "code",
      "execution_count": 37,
      "id": "fb6ac8d9",
      "metadata": {
        "execution": {
          "iopub.execute_input": "2023-05-01T17:49:06.874726Z",
          "iopub.status.busy": "2023-05-01T17:49:06.874330Z",
          "iopub.status.idle": "2023-05-01T17:49:12.649282Z",
          "shell.execute_reply": "2023-05-01T17:49:12.647978Z"
        },
        "papermill": {
          "duration": 5.797611,
          "end_time": "2023-05-01T17:49:12.652410",
          "exception": false,
          "start_time": "2023-05-01T17:49:06.854799",
          "status": "completed"
        },
        "tags": [],
        "colab": {
          "base_uri": "https://localhost:8080/"
        },
        "id": "fb6ac8d9",
        "outputId": "9c11bd76-7f98-4945-b6c8-61c0dfc47bc0"
      },
      "outputs": [
        {
          "output_type": "execute_result",
          "data": {
            "text/plain": [
              "(0.9990601503759399, 0.7112676056338029)"
            ]
          },
          "metadata": {},
          "execution_count": 37
        }
      ],
      "source": [
        "model_rf = RandomForestClassifier().fit(X_train,y_train)\n",
        "model_rf.score(X_train,y_train),model_rf.score(X_test,y_test)"
      ]
    },
    {
      "cell_type": "markdown",
      "id": "cd07844a",
      "metadata": {
        "papermill": {
          "duration": 0.017078,
          "end_time": "2023-05-01T17:49:12.687007",
          "exception": false,
          "start_time": "2023-05-01T17:49:12.669929",
          "status": "completed"
        },
        "tags": [],
        "id": "cd07844a"
      },
      "source": [
        "### --> For TF-IDF"
      ]
    },
    {
      "cell_type": "code",
      "execution_count": 38,
      "id": "30fe5f82",
      "metadata": {
        "execution": {
          "iopub.execute_input": "2023-05-01T17:49:12.724469Z",
          "iopub.status.busy": "2023-05-01T17:49:12.723770Z",
          "iopub.status.idle": "2023-05-01T17:49:12.809520Z",
          "shell.execute_reply": "2023-05-01T17:49:12.808236Z"
        },
        "papermill": {
          "duration": 0.107555,
          "end_time": "2023-05-01T17:49:12.812021",
          "exception": false,
          "start_time": "2023-05-01T17:49:12.704466",
          "status": "completed"
        },
        "tags": [],
        "colab": {
          "base_uri": "https://localhost:8080/"
        },
        "id": "30fe5f82",
        "outputId": "e9a2e287-9480-4352-97d1-d88694c47cd8"
      },
      "outputs": [
        {
          "output_type": "execute_result",
          "data": {
            "text/plain": [
              "((2128, 10267), (710,))"
            ]
          },
          "metadata": {},
          "execution_count": 38
        }
      ],
      "source": [
        "X_train1,X_test1,y_train1,y_test1 = train_test_split(tf_df,df1['label'],stratify=df1['label'])\n",
        "X_train1.shape,y_test1.shape"
      ]
    },
    {
      "cell_type": "markdown",
      "id": "8b1def51",
      "metadata": {
        "papermill": {
          "duration": 0.017182,
          "end_time": "2023-05-01T17:49:12.846722",
          "exception": false,
          "start_time": "2023-05-01T17:49:12.829540",
          "status": "completed"
        },
        "tags": [],
        "id": "8b1def51"
      },
      "source": [
        "#### --------> Logistic Regression"
      ]
    },
    {
      "cell_type": "code",
      "execution_count": 39,
      "id": "e68dc184",
      "metadata": {
        "execution": {
          "iopub.execute_input": "2023-05-01T17:49:12.884243Z",
          "iopub.status.busy": "2023-05-01T17:49:12.883792Z",
          "iopub.status.idle": "2023-05-01T17:49:13.764179Z",
          "shell.execute_reply": "2023-05-01T17:49:13.762875Z"
        },
        "papermill": {
          "duration": 0.904057,
          "end_time": "2023-05-01T17:49:13.768396",
          "exception": false,
          "start_time": "2023-05-01T17:49:12.864339",
          "status": "completed"
        },
        "tags": [],
        "colab": {
          "base_uri": "https://localhost:8080/"
        },
        "id": "e68dc184",
        "outputId": "2a491816-64f1-444a-aa57-f5afff519238"
      },
      "outputs": [
        {
          "output_type": "execute_result",
          "data": {
            "text/plain": [
              "(0.9055451127819549, 0.7676056338028169)"
            ]
          },
          "metadata": {},
          "execution_count": 39
        }
      ],
      "source": [
        "model_lr = LogisticRegression().fit(X_train1,y_train1)\n",
        "model_lr.score(X_train1,y_train1),model_lr.score(X_test1,y_test1)"
      ]
    },
    {
      "cell_type": "markdown",
      "id": "a55c81c8",
      "metadata": {
        "papermill": {
          "duration": 0.044563,
          "end_time": "2023-05-01T17:49:13.858334",
          "exception": false,
          "start_time": "2023-05-01T17:49:13.813771",
          "status": "completed"
        },
        "tags": [],
        "id": "a55c81c8"
      },
      "source": [
        "#### --------> Naive Bayes"
      ]
    },
    {
      "cell_type": "code",
      "execution_count": 40,
      "id": "db584c65",
      "metadata": {
        "execution": {
          "iopub.execute_input": "2023-05-01T17:49:13.908194Z",
          "iopub.status.busy": "2023-05-01T17:49:13.907777Z",
          "iopub.status.idle": "2023-05-01T17:49:14.399654Z",
          "shell.execute_reply": "2023-05-01T17:49:14.398392Z"
        },
        "papermill": {
          "duration": 0.51581,
          "end_time": "2023-05-01T17:49:14.404221",
          "exception": false,
          "start_time": "2023-05-01T17:49:13.888411",
          "status": "completed"
        },
        "tags": [],
        "colab": {
          "base_uri": "https://localhost:8080/"
        },
        "id": "db584c65",
        "outputId": "16a89bbf-3506-4a54-ceb5-8bfa2cb4a9e5"
      },
      "outputs": [
        {
          "output_type": "execute_result",
          "data": {
            "text/plain": [
              "(0.8228383458646616, 0.7028169014084507)"
            ]
          },
          "metadata": {},
          "execution_count": 40
        }
      ],
      "source": [
        "model_nb = MultinomialNB().fit(X_train1,y_train1)\n",
        "model_nb.score(X_train1,y_train1),model_nb.score(X_test1,y_test1)"
      ]
    },
    {
      "cell_type": "markdown",
      "id": "d9291968",
      "metadata": {
        "papermill": {
          "duration": 0.045642,
          "end_time": "2023-05-01T17:49:14.496391",
          "exception": false,
          "start_time": "2023-05-01T17:49:14.450749",
          "status": "completed"
        },
        "tags": [],
        "id": "d9291968"
      },
      "source": [
        "#### --------> Random Forest "
      ]
    },
    {
      "cell_type": "code",
      "source": [
        "model_rf = RandomForestClassifier().fit(X_train1,y_train1)\n",
        "model_rf.score(X_train1,y_train1),model_rf.score(X_test1,y_test1)"
      ],
      "metadata": {
        "colab": {
          "base_uri": "https://localhost:8080/"
        },
        "id": "9lQIzpn0sfsF",
        "outputId": "a4437c31-523b-4b27-cf6f-9cb6b8d8cc6f"
      },
      "id": "9lQIzpn0sfsF",
      "execution_count": 41,
      "outputs": [
        {
          "output_type": "execute_result",
          "data": {
            "text/plain": [
              "(0.9981203007518797, 0.7253521126760564)"
            ]
          },
          "metadata": {},
          "execution_count": 41
        }
      ]
    },
    {
      "cell_type": "markdown",
      "id": "72309009",
      "metadata": {
        "papermill": {
          "duration": 0.017777,
          "end_time": "2023-05-01T17:49:14.577819",
          "exception": false,
          "start_time": "2023-05-01T17:49:14.560042",
          "status": "completed"
        },
        "tags": [],
        "id": "72309009"
      },
      "source": [
        "### \"Breaking news, folks! In a stunning turn of events, the underdogs Logistic Regression and Naive Bayes have pulled off an epic upset and knocked out the reigning champion Random Forest in the battle of the algorithms! Who knew that old-school techniques still had some moves left in them? It just goes to show that in the world of data science, anything is possible!\" 😂😂😂😂😂😂😂😂"
      ]
    },
    {
      "cell_type": "markdown",
      "id": "ca360fd2",
      "metadata": {
        "papermill": {
          "duration": 0.017225,
          "end_time": "2023-05-01T17:49:14.613058",
          "exception": false,
          "start_time": "2023-05-01T17:49:14.595833",
          "status": "completed"
        },
        "tags": [],
        "id": "ca360fd2"
      },
      "source": [
        "## Validation / calibration\n",
        "* confusion matrix \n",
        "* classification report"
      ]
    },
    {
      "cell_type": "code",
      "execution_count": 42,
      "id": "7da732fb",
      "metadata": {
        "execution": {
          "iopub.execute_input": "2023-05-01T17:49:14.651080Z",
          "iopub.status.busy": "2023-05-01T17:49:14.649932Z",
          "iopub.status.idle": "2023-05-01T17:49:14.885345Z",
          "shell.execute_reply": "2023-05-01T17:49:14.883927Z"
        },
        "papermill": {
          "duration": 0.257786,
          "end_time": "2023-05-01T17:49:14.888598",
          "exception": false,
          "start_time": "2023-05-01T17:49:14.630812",
          "status": "completed"
        },
        "tags": [],
        "id": "7da732fb"
      },
      "outputs": [],
      "source": [
        "import matplotlib.pyplot as plt\n",
        "import seaborn as sns\n",
        "from sklearn.metrics import confusion_matrix,classification_report"
      ]
    },
    {
      "cell_type": "code",
      "execution_count": 43,
      "id": "f561e032",
      "metadata": {
        "execution": {
          "iopub.execute_input": "2023-05-01T17:49:14.929045Z",
          "iopub.status.busy": "2023-05-01T17:49:14.928615Z",
          "iopub.status.idle": "2023-05-01T17:49:15.031762Z",
          "shell.execute_reply": "2023-05-01T17:49:15.030361Z"
        },
        "papermill": {
          "duration": 0.129249,
          "end_time": "2023-05-01T17:49:15.036626",
          "exception": false,
          "start_time": "2023-05-01T17:49:14.907377",
          "status": "completed"
        },
        "tags": [],
        "colab": {
          "base_uri": "https://localhost:8080/"
        },
        "id": "f561e032",
        "outputId": "7b2a1d5f-5322-4d02-fbc4-63e64526e94a"
      },
      "outputs": [
        {
          "output_type": "execute_result",
          "data": {
            "text/plain": [
              "array([[250,  77],\n",
              "       [ 88, 295]])"
            ]
          },
          "metadata": {},
          "execution_count": 43
        }
      ],
      "source": [
        "y_pred = model_lr.predict(X_test1)\n",
        "cm = confusion_matrix(y_pred,y_test1)\n",
        "cm"
      ]
    },
    {
      "cell_type": "code",
      "execution_count": 44,
      "id": "db032c72",
      "metadata": {
        "execution": {
          "iopub.execute_input": "2023-05-01T17:49:15.132622Z",
          "iopub.status.busy": "2023-05-01T17:49:15.131886Z",
          "iopub.status.idle": "2023-05-01T17:49:15.421734Z",
          "shell.execute_reply": "2023-05-01T17:49:15.420231Z"
        },
        "papermill": {
          "duration": 0.341576,
          "end_time": "2023-05-01T17:49:15.424818",
          "exception": false,
          "start_time": "2023-05-01T17:49:15.083242",
          "status": "completed"
        },
        "tags": [],
        "colab": {
          "base_uri": "https://localhost:8080/",
          "height": 449
        },
        "id": "db032c72",
        "outputId": "5bbaf0a5-c4d5-4b2e-d996-3c4f3f5d18c7"
      },
      "outputs": [
        {
          "output_type": "display_data",
          "data": {
            "text/plain": [
              "<Figure size 640x480 with 2 Axes>"
            ],
            "image/png": "[encoded data removed]"
          },
          "metadata": {}
        }
      ],
      "source": [
        "sns.heatmap(cm,annot=True,fmt='')\n",
        "plt.xlabel(\"Predicted\")\n",
        "plt.ylabel(\"True\")\n",
        "plt.show()"
      ]
    },
    {
      "cell_type": "code",
      "execution_count": 45,
      "id": "3271de1d",
      "metadata": {
        "execution": {
          "iopub.execute_input": "2023-05-01T17:49:15.464170Z",
          "iopub.status.busy": "2023-05-01T17:49:15.463306Z",
          "iopub.status.idle": "2023-05-01T17:49:15.475335Z",
          "shell.execute_reply": "2023-05-01T17:49:15.473712Z"
        },
        "papermill": {
          "duration": 0.034672,
          "end_time": "2023-05-01T17:49:15.477990",
          "exception": false,
          "start_time": "2023-05-01T17:49:15.443318",
          "status": "completed"
        },
        "tags": [],
        "colab": {
          "base_uri": "https://localhost:8080/"
        },
        "id": "3271de1d",
        "outputId": "cd3bfe18-fc16-4873-9779-ce84a0026c02"
      },
      "outputs": [
        {
          "output_type": "stream",
          "name": "stdout",
          "text": [
            "              precision    recall  f1-score   support\n",
            "\n",
            "           0       0.74      0.76      0.75       327\n",
            "           1       0.79      0.77      0.78       383\n",
            "\n",
            "    accuracy                           0.77       710\n",
            "   macro avg       0.77      0.77      0.77       710\n",
            "weighted avg       0.77      0.77      0.77       710\n",
            "\n"
          ]
        }
      ],
      "source": [
        "print(classification_report(y_pred,y_test1))"
      ]
    },
    {
      "cell_type": "markdown",
      "id": "7591ff6a",
      "metadata": {
        "papermill": {
          "duration": 0.017924,
          "end_time": "2023-05-01T17:49:15.514415",
          "exception": false,
          "start_time": "2023-05-01T17:49:15.496491",
          "status": "completed"
        },
        "tags": [],
        "id": "7591ff6a"
      },
      "source": [
        "## Generating predictions (Exciting part of notebook) 🤔"
      ]
    },
    {
      "cell_type": "code",
      "execution_count": 46,
      "id": "4254b185",
      "metadata": {
        "execution": {
          "iopub.execute_input": "2023-05-01T17:49:15.554224Z",
          "iopub.status.busy": "2023-05-01T17:49:15.553181Z",
          "iopub.status.idle": "2023-05-01T17:49:16.404489Z",
          "shell.execute_reply": "2023-05-01T17:49:16.402762Z"
        },
        "papermill": {
          "duration": 0.876393,
          "end_time": "2023-05-01T17:49:16.409582",
          "exception": false,
          "start_time": "2023-05-01T17:49:15.533189",
          "status": "completed"
        },
        "tags": [],
        "colab": {
          "base_uri": "https://localhost:8080/"
        },
        "id": "4254b185",
        "outputId": "b695aef5-c6a2-49dd-8b56-730f7c21668c"
      },
      "outputs": [
        {
          "output_type": "execute_result",
          "data": {
            "text/plain": [
              "0.8999295278365046"
            ]
          },
          "metadata": {},
          "execution_count": 46
        }
      ],
      "source": [
        "model = LogisticRegression().fit(tf_df,df1['label'])\n",
        "model.score(tf_df,df1['label'])"
      ]
    },
    {
      "cell_type": "code",
      "execution_count": 52,
      "id": "19343025",
      "metadata": {
        "execution": {
          "iopub.execute_input": "2023-05-01T17:49:16.513282Z",
          "iopub.status.busy": "2023-05-01T17:49:16.511109Z",
          "iopub.status.idle": "2023-05-01T17:49:16.519539Z",
          "shell.execute_reply": "2023-05-01T17:49:16.518552Z"
        },
        "papermill": {
          "duration": 0.061602,
          "end_time": "2023-05-01T17:49:16.522147",
          "exception": false,
          "start_time": "2023-05-01T17:49:16.460545",
          "status": "completed"
        },
        "tags": [],
        "id": "19343025"
      },
      "outputs": [],
      "source": [
        "def predictor(text):\n",
        "    # processed = textPocess(text)\n",
        "    embedded_words = tf.transform([text])\n",
        "    res = model.predict(embedded_words)\n",
        "    if res[0] == 1:\n",
        "        res = \"this person is in stress\"\n",
        "    else:\n",
        "        res = \"this person is not in stress\"\n",
        "    return res"
      ]
    },
    {
      "cell_type": "code",
      "source": [
        "import pickle\n",
        "pickle.dump(predictor,open('stress_detector.pkl', 'wb'))"
      ],
      "metadata": {
        "id": "BSlZPGPUuWey"
      },
      "id": "BSlZPGPUuWey",
      "execution_count": 48,
      "outputs": []
    },
    {
      "cell_type": "code",
      "execution_count": 53,
      "id": "7c2d7eaf",
      "metadata": {
        "execution": {
          "iopub.execute_input": "2023-05-01T17:49:16.562788Z",
          "iopub.status.busy": "2023-05-01T17:49:16.561386Z",
          "iopub.status.idle": "2023-05-01T17:49:16.569813Z",
          "shell.execute_reply": "2023-05-01T17:49:16.568759Z"
        },
        "papermill": {
          "duration": 0.032024,
          "end_time": "2023-05-01T17:49:16.572660",
          "exception": false,
          "start_time": "2023-05-01T17:49:16.540636",
          "status": "completed"
        },
        "tags": [],
        "id": "7c2d7eaf"
      },
      "outputs": [],
      "source": [
        "text1 = \"\"\"This is the worst thing that happened to me today. I got less marks in my exam, \n",
        "            so it is not going to help me in my future.\"\"\"\n",
        "text2 = \"\"\"Hi Shashank sir, I gained a lot of knowledge from you for my future use. \n",
        "            This was a very fun journey for me. Thanks for boosting my confidence.\"\"\"\n",
        "\n",
        "text3 = \"\"\"\n",
        "User: Hi, I need help!\n",
        "\n",
        "Chatbot: Of course, what can I assist you with?\n",
        "\n",
        "User: I have a deadline tomorrow and I haven't even started on my project yet. I'm freaking out!\n",
        "\n",
        "Chatbot: Okay, take a deep breath. Let's start by breaking down the project into smaller tasks. \n",
        "What do you need to do first?\n",
        "\n",
        "User: I need to gather some research and data, but I don't even know where to start!\n",
        "\n",
        "Chatbot: No problem. Let's begin by outlining the main points of your project, \n",
        "\n",
        "and then we can find the resources you need to complete each section. Can you tell me more about your project?\n",
        "\n",
        "User: It's a marketing report for my boss. I need to analyze our competitors and come up with a new marketing strategy.\n",
        "\n",
        "Chatbot: Great, that gives us a good starting point. \n",
        "\n",
        "Let's look for industry reports and market research that can give you insights into your competitors. \n",
        "\n",
        "And don't forget to take breaks and pace yourself as you work on each section. You got this!\"\"\"\n",
        "\n",
        "text4 = \"\"\"\n",
        "User: Hi there! How are you doing today?\n",
        "\n",
        "Chatbot: Hello! I'm doing well, thanks for asking. How about you?\n",
        "\n",
        "User: I'm doing pretty well too, thanks. I just wanted to ask you a question about your service.\n",
        "\n",
        "Chatbot: Of course, I'm here to help. What can I assist you with?\n",
        "\n",
        "User: I'm interested in learning more about your pricing options. Can you provide me with some information?\n",
        "\n",
        "Chatbot: Absolutely! We have several different pricing plans depending on your needs. \n",
        "\n",
        "Would you like me to send you a link to our pricing page?\n",
        "\n",
        "User: Yes, that would be great. Also, do you offer any discounts or promotions?\n",
        "\n",
        "Chatbot: Yes, we do offer discounts for long-term contracts and for certain types of organizations. \n",
        "\n",
        "Would you like me to provide more details?\n",
        "\n",
        "User: That would be helpful, thank you.\n",
        "\n",
        "Chatbot: Sure thing! Our team can provide you with all the information you need to make an informed decision. \n",
        "\n",
        "Is there anything else I can help you with today?\"\"\""
      ]
    },
    {
      "cell_type": "code",
      "execution_count": 54,
      "id": "d9d5f0f3",
      "metadata": {
        "execution": {
          "iopub.execute_input": "2023-05-01T17:49:16.613992Z",
          "iopub.status.busy": "2023-05-01T17:49:16.613062Z",
          "iopub.status.idle": "2023-05-01T17:49:16.635750Z",
          "shell.execute_reply": "2023-05-01T17:49:16.633959Z"
        },
        "papermill": {
          "duration": 0.046186,
          "end_time": "2023-05-01T17:49:16.638549",
          "exception": false,
          "start_time": "2023-05-01T17:49:16.592363",
          "status": "completed"
        },
        "tags": [],
        "colab": {
          "base_uri": "https://localhost:8080/"
        },
        "id": "d9d5f0f3",
        "outputId": "0778720e-2c38-4a66-b52d-9864327ea9f1"
      },
      "outputs": [
        {
          "output_type": "stream",
          "name": "stdout",
          "text": [
            "this person is in stress\n",
            "this person is not in stress\n",
            "this person is in stress\n",
            "this person is not in stress\n"
          ]
        }
      ],
      "source": [
        "print(predictor(text1))\n",
        "print(predictor(text2))\n",
        "print(predictor(text3))\n",
        "print(predictor(text4))"
      ]
    },
    {
      "cell_type": "markdown",
      "id": "2d46c924",
      "metadata": {
        "papermill": {
          "duration": 0.018327,
          "end_time": "2023-05-01T17:49:16.675626",
          "exception": false,
          "start_time": "2023-05-01T17:49:16.657299",
          "status": "completed"
        },
        "tags": [],
        "id": "2d46c924"
      },
      "source": [
        "## download model"
      ]
    },
    {
      "cell_type": "markdown",
      "id": "1cb91c5c",
      "metadata": {
        "papermill": {
          "duration": 0.019082,
          "end_time": "2023-05-01T17:49:16.768487",
          "exception": false,
          "start_time": "2023-05-01T17:49:16.749405",
          "status": "completed"
        },
        "tags": [],
        "id": "1cb91c5c"
      },
      "source": [
        "## Conclusion"
      ]
    },
    {
      "cell_type": "markdown",
      "id": "360f755e",
      "metadata": {
        "papermill": {
          "duration": 0.019501,
          "end_time": "2023-05-01T17:49:16.807141",
          "exception": false,
          "start_time": "2023-05-01T17:49:16.787640",
          "status": "completed"
        },
        "tags": [],
        "id": "360f755e"
      },
      "source": [
        "* After looking at the score and predictions, we can say that our model has good prediction capability, even though there are 2838 datapoints.\n",
        "* I intentionally used the Random Forest algorithm to remove the mindset of AI developers that Random Forest always gets better results.\n",
        "* The reality is that the score of a model depends on the structure of its algorithm. Every algorithm has its own \"USP and each algorithm is developed to solve a particular type of problem.\n",
        "\n",
        "**And this is the intention behind why I wrote this notebook.**"
      ]
    }
  ],
  "metadata": {
    "kernelspec": {
      "display_name": "Python 3",
      "language": "python",
      "name": "python3"
    },
    "language_info": {
      "codemirror_mode": {
        "name": "ipython",
        "version": 3
      },
      "file_extension": ".py",
      "mimetype": "text/x-python",
      "name": "python",
      "nbconvert_exporter": "python",
      "pygments_lexer": "ipython3",
      "version": "3.7.12"
    },
    "papermill": {
      "default_parameters": {},
      "duration": 79.873422,
      "end_time": "2023-05-01T17:49:19.593434",
      "environment_variables": {},
      "exception": null,
      "input_path": "__notebook__.ipynb",
      "output_path": "__notebook__.ipynb",
      "parameters": {},
      "start_time": "2023-05-01T17:47:59.720012",
      "version": "2.4.0"
    },
    "colab": {
      "provenance": []
    }
  },
  "nbformat": 4,
  "nbformat_minor": 5
}